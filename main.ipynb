{
 "cells": [
  {
   "cell_type": "markdown",
   "metadata": {
    "_cell_guid": "79c7e3d0-c299-4dcb-8224-4455121ee9b0",
    "_uuid": "d629ff2d2480ee46fbb7e2d37f6b5fab8052498a"
   },
   "source": [
    "### Main.ipynb consist of \n",
    "1. Hashing- Hash function - Bloomfilter ( Mohammadreza Mowlai)\n",
    "2. Alphabetic Sorting- Counting Sort algo | string sorting | Word sorting ( Muhammad Anwar Alam)\n",
    "3. Clustering and Map Reduce (Niccolò Mascaro)"
   ]
  },
  {
   "cell_type": "markdown",
   "metadata": {},
   "source": [
    "#### HW_4 Group 8"
   ]
  },
  {
   "cell_type": "markdown",
   "metadata": {},
   "source": [
    "# 1.Hashing "
   ]
  },
  {
   "cell_type": "code",
   "execution_count": 5,
   "metadata": {},
   "outputs": [],
   "source": [
    "import pandas as pd,numpy as np\n",
    "import math,time"
   ]
  },
  {
   "cell_type": "markdown",
   "metadata": {},
   "source": [
    "### Data Extraction"
   ]
  },
  {
   "cell_type": "code",
   "execution_count": 4,
   "metadata": {},
   "outputs": [],
   "source": [
    "# Reading the file\n",
    "with open('passwords1.txt','r') as f:\n",
    "    lines = f.readlines()\n",
    "    f.close()"
   ]
  },
  {
   "cell_type": "code",
   "execution_count": 5,
   "metadata": {},
   "outputs": [],
   "source": [
    "# Removing the \"\\n\"s\n",
    "for i in range(len(lines)):\n",
    "    lines[i] = lines[i].strip().split('\\n')[0]"
   ]
  },
  {
   "cell_type": "code",
   "execution_count": 6,
   "metadata": {},
   "outputs": [
    {
     "data": {
      "text/plain": [
       "100000000"
      ]
     },
     "execution_count": 6,
     "metadata": {},
     "output_type": "execute_result"
    }
   ],
   "source": [
    "len(lines)"
   ]
  },
  {
   "cell_type": "code",
   "execution_count": null,
   "metadata": {},
   "outputs": [],
   "source": [
    "# making a data frame\n",
    "pws = pd.DataFrame(lines)"
   ]
  },
  {
   "cell_type": "code",
   "execution_count": 8,
   "metadata": {},
   "outputs": [
    {
     "data": {
      "text/html": [
       "<div>\n",
       "<style scoped>\n",
       "    .dataframe tbody tr th:only-of-type {\n",
       "        vertical-align: middle;\n",
       "    }\n",
       "\n",
       "    .dataframe tbody tr th {\n",
       "        vertical-align: top;\n",
       "    }\n",
       "\n",
       "    .dataframe thead th {\n",
       "        text-align: right;\n",
       "    }\n",
       "</style>\n",
       "<table border=\"1\" class=\"dataframe\">\n",
       "  <thead>\n",
       "    <tr style=\"text-align: right;\">\n",
       "      <th></th>\n",
       "      <th>0</th>\n",
       "    </tr>\n",
       "  </thead>\n",
       "  <tbody>\n",
       "    <tr>\n",
       "      <td>0</td>\n",
       "      <td>JV#0$S;D@j+c96/8C(W%</td>\n",
       "    </tr>\n",
       "    <tr>\n",
       "      <td>1</td>\n",
       "      <td>J,)e+LH'ENmdV5YGWu4B</td>\n",
       "    </tr>\n",
       "    <tr>\n",
       "      <td>2</td>\n",
       "      <td>tR0V2@$SNuU9;&lt;&amp;DafxO</td>\n",
       "    </tr>\n",
       "    <tr>\n",
       "      <td>3</td>\n",
       "      <td>/DXhI;GNl*nbCzKso=?@</td>\n",
       "    </tr>\n",
       "    <tr>\n",
       "      <td>4</td>\n",
       "      <td>b*ZB/egd=!XcvV&gt;K(qY@</td>\n",
       "    </tr>\n",
       "  </tbody>\n",
       "</table>\n",
       "</div>"
      ],
      "text/plain": [
       "                      0\n",
       "0  JV#0$S;D@j+c96/8C(W%\n",
       "1  J,)e+LH'ENmdV5YGWu4B\n",
       "2  tR0V2@$SNuU9;<&DafxO\n",
       "3  /DXhI;GNl*nbCzKso=?@\n",
       "4  b*ZB/egd=!XcvV>K(qY@"
      ]
     },
     "execution_count": 8,
     "metadata": {},
     "output_type": "execute_result"
    }
   ],
   "source": [
    "pws.head()"
   ]
  },
  {
   "cell_type": "code",
   "execution_count": 9,
   "metadata": {},
   "outputs": [],
   "source": [
    "p = 0.09 # prob. of False possitive\n",
    "n = 100_000_000 # Number of all passwords1\n",
    "m = round((-(n*math.log(p))/((math.log(2))**2))) # The length of our Bloom filter\n",
    "k = round((m/n)*(math.log(2)))    # Number of hash functions needed\n"
   ]
  },
  {
   "cell_type": "markdown",
   "metadata": {},
   "source": [
    "## Creating Bloomfilter"
   ]
  },
  {
   "cell_type": "code",
   "execution_count": 10,
   "metadata": {},
   "outputs": [],
   "source": [
    "# Creating an empty bloomfilter(with 0 as a default value)\n",
    "hash_table = np.zeros(m, dtype = int)"
   ]
  },
  {
   "cell_type": "markdown",
   "metadata": {},
   "source": [
    "### Hash Function"
   ]
  },
  {
   "cell_type": "code",
   "execution_count": 12,
   "metadata": {},
   "outputs": [],
   "source": [
    "# Hash functions\n",
    "def hash_func1(s):\n",
    "    hash = 0\n",
    "    for i in range(len(s)-1,-1,-1):\n",
    "        hash += ord(s[i]) * pow(10,i)\n",
    "    return hash % m\n",
    "\n",
    "def hash_func2(s):\n",
    "    hash = 0\n",
    "    for i in range(len(s)-1,-1,-1):\n",
    "        ascii_code = ord(s[i])\n",
    "        hash = 128 * hash + ascii_code\n",
    "    return hash % m\n",
    "\n",
    "def hash_func3(s):\n",
    "    hash = 0\n",
    "    for i in range(len(s)-1,-1,-1):\n",
    "        hash += ord(s[i]) * pow(5,i)\n",
    "    return hash % m      \n",
    "        \n",
    "        \n"
   ]
  },
  {
   "cell_type": "markdown",
   "metadata": {},
   "source": [
    "### Updating Bloom filter with Hash Function"
   ]
  },
  {
   "cell_type": "code",
   "execution_count": 13,
   "metadata": {},
   "outputs": [],
   "source": [
    "# Here we update the bloom filter by the index we got from hash functions\n",
    "def hash_table_update():\n",
    "    for _ in pws[0]:\n",
    "        res1 = hash_func1(_)\n",
    "        res2 = hash_func2(_)\n",
    "        res3 = hash_func3(_)\n",
    "        \n",
    "        if hash_table[res1] != 1:\n",
    "            hash_table[res1] = 1\n",
    "            \n",
    "        if hash_table[res2] != 1:\n",
    "            hash_table[res2] = 1\n",
    "            \n",
    "        if hash_table[res3] != 1:\n",
    "            hash_table[res3] = 1"
   ]
  },
  {
   "cell_type": "code",
   "execution_count": null,
   "metadata": {},
   "outputs": [],
   "source": []
  },
  {
   "cell_type": "code",
   "execution_count": 14,
   "metadata": {},
   "outputs": [],
   "source": [
    "# Now we need the 2nd dataset to chech the duplicates\n",
    "with open('passwords2.txt','r') as f2:\n",
    "    lines2 = f2.readlines()\n",
    "    f2.close()"
   ]
  },
  {
   "cell_type": "code",
   "execution_count": 15,
   "metadata": {},
   "outputs": [],
   "source": [
    "for i in range(len(lines2)):\n",
    "    lines2[i] = lines2[i].strip().split('\\n')[0]"
   ]
  },
  {
   "cell_type": "code",
   "execution_count": 16,
   "metadata": {},
   "outputs": [],
   "source": [
    "pws2 = pd.DataFrame(lines2)"
   ]
  },
  {
   "cell_type": "code",
   "execution_count": 17,
   "metadata": {},
   "outputs": [],
   "source": [
    "# Here we calculate the number of duplicate passwords we have\n",
    "def duplicates():\n",
    "    N = 0\n",
    "    for _ in pws2[0]:\n",
    "        res2_1 = hash_func1(_)\n",
    "        res2_2 = hash_func2(_)\n",
    "        res2_3 = hash_func3(_)\n",
    "        if hash_table[res2_1] == 1 and hash_table[res2_2] == 1 and hash_table[res2_3] == 1:\n",
    "            N += 1\n",
    "    return N"
   ]
  },
  {
   "cell_type": "markdown",
   "metadata": {},
   "source": [
    "### Final BloomFilter"
   ]
  },
  {
   "cell_type": "code",
   "execution_count": 18,
   "metadata": {},
   "outputs": [],
   "source": [
    "def BloomFilter():\n",
    "    start = time.time()\n",
    "    \n",
    "    hash_table_update()\n",
    "    n = duplicates()\n",
    "    \n",
    "    \n",
    "    end = time.time()\n",
    "    \n",
    "    print('Number of hash function used: ', k)\n",
    "    print('Number of duplicates detected: ', n)\n",
    "    print('Probability of false positives: ', p)\n",
    "    print('Execution time: ', end-start)\n",
    "    "
   ]
  },
  {
   "cell_type": "markdown",
   "metadata": {},
   "source": [
    "## BloomFilter Test"
   ]
  },
  {
   "cell_type": "code",
   "execution_count": 19,
   "metadata": {
    "scrolled": true
   },
   "outputs": [
    {
     "name": "stdout",
     "output_type": "stream",
     "text": [
      "Number of hash function used:  3\n",
      "Number of duplicates detected:  16288397\n",
      "Probability of false positives:  0.09\n",
      "Execution time:  3460.731966972351\n"
     ]
    }
   ],
   "source": [
    "BloomFilter()"
   ]
  },
  {
   "cell_type": "markdown",
   "metadata": {},
   "source": [
    "# 2.Alphabetic Sorting"
   ]
  },
  {
   "cell_type": "markdown",
   "metadata": {},
   "source": [
    "### A. Counting Sort Algo"
   ]
  },
  {
   "cell_type": "markdown",
   "metadata": {},
   "source": [
    "### Creating a Auxilary Dataframe"
   ]
  },
  {
   "cell_type": "code",
   "execution_count": 6,
   "metadata": {},
   "outputs": [
    {
     "data": {
      "text/html": [
       "<div>\n",
       "<style scoped>\n",
       "    .dataframe tbody tr th:only-of-type {\n",
       "        vertical-align: middle;\n",
       "    }\n",
       "\n",
       "    .dataframe tbody tr th {\n",
       "        vertical-align: top;\n",
       "    }\n",
       "\n",
       "    .dataframe thead th {\n",
       "        text-align: right;\n",
       "    }\n",
       "</style>\n",
       "<table border=\"1\" class=\"dataframe\">\n",
       "  <thead>\n",
       "    <tr style=\"text-align: right;\">\n",
       "      <th></th>\n",
       "      <th>Value</th>\n",
       "    </tr>\n",
       "  </thead>\n",
       "  <tbody>\n",
       "    <tr>\n",
       "      <td>a</td>\n",
       "      <td>0</td>\n",
       "    </tr>\n",
       "    <tr>\n",
       "      <td>b</td>\n",
       "      <td>0</td>\n",
       "    </tr>\n",
       "    <tr>\n",
       "      <td>c</td>\n",
       "      <td>0</td>\n",
       "    </tr>\n",
       "    <tr>\n",
       "      <td>d</td>\n",
       "      <td>0</td>\n",
       "    </tr>\n",
       "    <tr>\n",
       "      <td>e</td>\n",
       "      <td>0</td>\n",
       "    </tr>\n",
       "    <tr>\n",
       "      <td>f</td>\n",
       "      <td>0</td>\n",
       "    </tr>\n",
       "    <tr>\n",
       "      <td>g</td>\n",
       "      <td>0</td>\n",
       "    </tr>\n",
       "    <tr>\n",
       "      <td>h</td>\n",
       "      <td>0</td>\n",
       "    </tr>\n",
       "    <tr>\n",
       "      <td>i</td>\n",
       "      <td>0</td>\n",
       "    </tr>\n",
       "    <tr>\n",
       "      <td>j</td>\n",
       "      <td>0</td>\n",
       "    </tr>\n",
       "    <tr>\n",
       "      <td>k</td>\n",
       "      <td>0</td>\n",
       "    </tr>\n",
       "    <tr>\n",
       "      <td>l</td>\n",
       "      <td>0</td>\n",
       "    </tr>\n",
       "    <tr>\n",
       "      <td>m</td>\n",
       "      <td>0</td>\n",
       "    </tr>\n",
       "    <tr>\n",
       "      <td>n</td>\n",
       "      <td>0</td>\n",
       "    </tr>\n",
       "    <tr>\n",
       "      <td>o</td>\n",
       "      <td>0</td>\n",
       "    </tr>\n",
       "    <tr>\n",
       "      <td>p</td>\n",
       "      <td>0</td>\n",
       "    </tr>\n",
       "    <tr>\n",
       "      <td>q</td>\n",
       "      <td>0</td>\n",
       "    </tr>\n",
       "    <tr>\n",
       "      <td>r</td>\n",
       "      <td>0</td>\n",
       "    </tr>\n",
       "    <tr>\n",
       "      <td>s</td>\n",
       "      <td>0</td>\n",
       "    </tr>\n",
       "    <tr>\n",
       "      <td>t</td>\n",
       "      <td>0</td>\n",
       "    </tr>\n",
       "    <tr>\n",
       "      <td>u</td>\n",
       "      <td>0</td>\n",
       "    </tr>\n",
       "    <tr>\n",
       "      <td>v</td>\n",
       "      <td>0</td>\n",
       "    </tr>\n",
       "    <tr>\n",
       "      <td>w</td>\n",
       "      <td>0</td>\n",
       "    </tr>\n",
       "    <tr>\n",
       "      <td>x</td>\n",
       "      <td>0</td>\n",
       "    </tr>\n",
       "    <tr>\n",
       "      <td>y</td>\n",
       "      <td>0</td>\n",
       "    </tr>\n",
       "    <tr>\n",
       "      <td>z</td>\n",
       "      <td>0</td>\n",
       "    </tr>\n",
       "  </tbody>\n",
       "</table>\n",
       "</div>"
      ],
      "text/plain": [
       "   Value\n",
       "a      0\n",
       "b      0\n",
       "c      0\n",
       "d      0\n",
       "e      0\n",
       "f      0\n",
       "g      0\n",
       "h      0\n",
       "i      0\n",
       "j      0\n",
       "k      0\n",
       "l      0\n",
       "m      0\n",
       "n      0\n",
       "o      0\n",
       "p      0\n",
       "q      0\n",
       "r      0\n",
       "s      0\n",
       "t      0\n",
       "u      0\n",
       "v      0\n",
       "w      0\n",
       "x      0\n",
       "y      0\n",
       "z      0"
      ]
     },
     "execution_count": 6,
     "metadata": {},
     "output_type": "execute_result"
    }
   ],
   "source": [
    "\n",
    "    Aindex = [\"a\",\"b\",\"c\",\"d\",\"e\",\"f\",\"g\",\"h\",\"i\",\"j\",\"k\",\"l\",\"m\",\"n\",\"o\",\"p\",\"q\",\"r\",\"s\",\"t\",\"u\",\"v\",\"w\",\"x\",\"y\",\"z\"]\n",
    "    Acolumns = ['Value']\n",
    "    Adf = pd.DataFrame(index = Aindex, columns = Acolumns).fillna(0)\n",
    "    Adf"
   ]
  },
  {
   "cell_type": "code",
   "execution_count": 11,
   "metadata": {},
   "outputs": [],
   "source": [
    "Istr = \"zzzkkkaaa\""
   ]
  },
  {
   "cell_type": "markdown",
   "metadata": {},
   "source": [
    "### Creating frequency Table of array on Auxilary Data frame"
   ]
  },
  {
   "cell_type": "code",
   "execution_count": 13,
   "metadata": {},
   "outputs": [
    {
     "data": {
      "text/html": [
       "<div>\n",
       "<style scoped>\n",
       "    .dataframe tbody tr th:only-of-type {\n",
       "        vertical-align: middle;\n",
       "    }\n",
       "\n",
       "    .dataframe tbody tr th {\n",
       "        vertical-align: top;\n",
       "    }\n",
       "\n",
       "    .dataframe thead th {\n",
       "        text-align: right;\n",
       "    }\n",
       "</style>\n",
       "<table border=\"1\" class=\"dataframe\">\n",
       "  <thead>\n",
       "    <tr style=\"text-align: right;\">\n",
       "      <th></th>\n",
       "      <th>Value</th>\n",
       "    </tr>\n",
       "  </thead>\n",
       "  <tbody>\n",
       "    <tr>\n",
       "      <td>a</td>\n",
       "      <td>6</td>\n",
       "    </tr>\n",
       "    <tr>\n",
       "      <td>b</td>\n",
       "      <td>0</td>\n",
       "    </tr>\n",
       "    <tr>\n",
       "      <td>c</td>\n",
       "      <td>0</td>\n",
       "    </tr>\n",
       "    <tr>\n",
       "      <td>d</td>\n",
       "      <td>0</td>\n",
       "    </tr>\n",
       "    <tr>\n",
       "      <td>e</td>\n",
       "      <td>0</td>\n",
       "    </tr>\n",
       "    <tr>\n",
       "      <td>f</td>\n",
       "      <td>0</td>\n",
       "    </tr>\n",
       "    <tr>\n",
       "      <td>g</td>\n",
       "      <td>0</td>\n",
       "    </tr>\n",
       "    <tr>\n",
       "      <td>h</td>\n",
       "      <td>0</td>\n",
       "    </tr>\n",
       "    <tr>\n",
       "      <td>i</td>\n",
       "      <td>0</td>\n",
       "    </tr>\n",
       "    <tr>\n",
       "      <td>j</td>\n",
       "      <td>0</td>\n",
       "    </tr>\n",
       "    <tr>\n",
       "      <td>k</td>\n",
       "      <td>6</td>\n",
       "    </tr>\n",
       "    <tr>\n",
       "      <td>l</td>\n",
       "      <td>0</td>\n",
       "    </tr>\n",
       "    <tr>\n",
       "      <td>m</td>\n",
       "      <td>0</td>\n",
       "    </tr>\n",
       "    <tr>\n",
       "      <td>n</td>\n",
       "      <td>0</td>\n",
       "    </tr>\n",
       "    <tr>\n",
       "      <td>o</td>\n",
       "      <td>0</td>\n",
       "    </tr>\n",
       "    <tr>\n",
       "      <td>p</td>\n",
       "      <td>0</td>\n",
       "    </tr>\n",
       "    <tr>\n",
       "      <td>q</td>\n",
       "      <td>0</td>\n",
       "    </tr>\n",
       "    <tr>\n",
       "      <td>r</td>\n",
       "      <td>0</td>\n",
       "    </tr>\n",
       "    <tr>\n",
       "      <td>s</td>\n",
       "      <td>0</td>\n",
       "    </tr>\n",
       "    <tr>\n",
       "      <td>t</td>\n",
       "      <td>0</td>\n",
       "    </tr>\n",
       "    <tr>\n",
       "      <td>u</td>\n",
       "      <td>0</td>\n",
       "    </tr>\n",
       "    <tr>\n",
       "      <td>v</td>\n",
       "      <td>0</td>\n",
       "    </tr>\n",
       "    <tr>\n",
       "      <td>w</td>\n",
       "      <td>0</td>\n",
       "    </tr>\n",
       "    <tr>\n",
       "      <td>x</td>\n",
       "      <td>0</td>\n",
       "    </tr>\n",
       "    <tr>\n",
       "      <td>y</td>\n",
       "      <td>0</td>\n",
       "    </tr>\n",
       "    <tr>\n",
       "      <td>z</td>\n",
       "      <td>6</td>\n",
       "    </tr>\n",
       "  </tbody>\n",
       "</table>\n",
       "</div>"
      ],
      "text/plain": [
       "   Value\n",
       "a      6\n",
       "b      0\n",
       "c      0\n",
       "d      0\n",
       "e      0\n",
       "f      0\n",
       "g      0\n",
       "h      0\n",
       "i      0\n",
       "j      0\n",
       "k      6\n",
       "l      0\n",
       "m      0\n",
       "n      0\n",
       "o      0\n",
       "p      0\n",
       "q      0\n",
       "r      0\n",
       "s      0\n",
       "t      0\n",
       "u      0\n",
       "v      0\n",
       "w      0\n",
       "x      0\n",
       "y      0\n",
       "z      6"
      ]
     },
     "execution_count": 13,
     "metadata": {},
     "output_type": "execute_result"
    }
   ],
   "source": [
    "\n",
    "for i in Istr:       # Substituing the count of alphabets (index) in the Value Column\n",
    "    Adf.at[i,'Value']+=1    # adding up the count of alphabets from INPUT String in the Dataframe\n",
    "Adf"
   ]
  },
  {
   "cell_type": "markdown",
   "metadata": {},
   "source": [
    "### sorted Dataframe"
   ]
  },
  {
   "cell_type": "code",
   "execution_count": 15,
   "metadata": {},
   "outputs": [
    {
     "data": {
      "text/html": [
       "<div>\n",
       "<style scoped>\n",
       "    .dataframe tbody tr th:only-of-type {\n",
       "        vertical-align: middle;\n",
       "    }\n",
       "\n",
       "    .dataframe tbody tr th {\n",
       "        vertical-align: top;\n",
       "    }\n",
       "\n",
       "    .dataframe thead th {\n",
       "        text-align: right;\n",
       "    }\n",
       "</style>\n",
       "<table border=\"1\" class=\"dataframe\">\n",
       "  <thead>\n",
       "    <tr style=\"text-align: right;\">\n",
       "      <th></th>\n",
       "      <th>Value</th>\n",
       "    </tr>\n",
       "  </thead>\n",
       "  <tbody>\n",
       "    <tr>\n",
       "      <td>a</td>\n",
       "      <td>6</td>\n",
       "    </tr>\n",
       "    <tr>\n",
       "      <td>k</td>\n",
       "      <td>6</td>\n",
       "    </tr>\n",
       "    <tr>\n",
       "      <td>z</td>\n",
       "      <td>6</td>\n",
       "    </tr>\n",
       "  </tbody>\n",
       "</table>\n",
       "</div>"
      ],
      "text/plain": [
       "   Value\n",
       "a      6\n",
       "k      6\n",
       "z      6"
      ]
     },
     "execution_count": 15,
     "metadata": {},
     "output_type": "execute_result"
    }
   ],
   "source": [
    "\n",
    "filtnonzero = Adf.Value > 0\n",
    "Afdf = Adf[filtnonzero]  # Dataframe for INPUT STRINGs only\n",
    "Afdf\n"
   ]
  },
  {
   "cell_type": "markdown",
   "metadata": {},
   "source": [
    "## Result"
   ]
  },
  {
   "cell_type": "code",
   "execution_count": 19,
   "metadata": {},
   "outputs": [
    {
     "data": {
      "text/plain": [
       "'aaaaaakkkkkkzzzzzz'"
      ]
     },
     "execution_count": 19,
     "metadata": {},
     "output_type": "execute_result"
    }
   ],
   "source": [
    "Ostr = [] #output\n",
    "for l in range (len(Afdf)): # length will be the index of Sorted dataframe\n",
    "    z = Afdf.iloc[l][0]\n",
    "    for m in range (z):\n",
    "        Ostr.append(Afdf.index[l])\n",
    "out = (\"\".join(Ostr))\n",
    "out"
   ]
  },
  {
   "cell_type": "markdown",
   "metadata": {},
   "source": [
    "### Function for Algo of implementing Alphabetical order Via Counting Sort"
   ]
  },
  {
   "cell_type": "code",
   "execution_count": 21,
   "metadata": {},
   "outputs": [],
   "source": [
    "def countingsort (Istr):\n",
    "    # Creating a Auxilary Dataframe\n",
    "    index = [\"a\",\"b\",\"c\",\"d\",\"e\",\"f\",\"g\",\"h\",\"i\",\"j\",\"k\",\"l\",\"m\",\"n\",\"o\",\"p\",\"q\",\"r\",\"s\",\"t\",\"u\",\"v\",\"w\",\"x\",\"y\",\"z\"]\n",
    "    columns = ['Value']\n",
    "    df = pd.DataFrame(index = index, columns = columns).fillna(0)\n",
    "\n",
    "    # Array\n",
    "    # String entered for Input\n",
    "    Istr = Istr.lower()   # Making it on a  lower case\n",
    "\n",
    "    # Creating frequency Table of array on Auxilary Dat frame\n",
    "\n",
    "    for i in Istr:       # Substituing the count of alphabets (index) in the Value Column\n",
    "        df.at[i, 'Value']+=1    # adding up the count of alphabets from INPUT String in the Dataframe\n",
    "\n",
    "    # sorted Dataframe\n",
    "    filtnonzero = df.Value > 0\n",
    "    fdf = df[filtnonzero]  # Dataframe for INPUT STRINGs only\n",
    "\n",
    "    # Result\n",
    "\n",
    "    Ostr = []\n",
    "    for l in range (len(fdf)): # length will be the index of Sorted dataframe\n",
    "        z = fdf.iloc[l][0]\n",
    "        for m in range (z):\n",
    "            Ostr.append(fdf.index[l])\n",
    "\n",
    "    ## Output\n",
    "    out = (\"\".join(Ostr))\n",
    "    return(out)\n"
   ]
  },
  {
   "cell_type": "markdown",
   "metadata": {},
   "source": [
    "## B. String Sorting"
   ]
  },
  {
   "cell_type": "code",
   "execution_count": 22,
   "metadata": {},
   "outputs": [
    {
     "name": "stdout",
     "output_type": "stream",
     "text": [
      "Enter a string of alphabets :zzzkkkpppaaa\n",
      "Sorted string is:  aaakkkpppzzz\n"
     ]
    }
   ],
   "source": [
    "## 2. Alphabetic String Sorting\n",
    "\n",
    "strinput = input(\"Enter a string of alphabets :\")\n",
    "d = countingsort(strinput)\n",
    "print (\"Sorted string is: \",d)\n"
   ]
  },
  {
   "cell_type": "markdown",
   "metadata": {},
   "source": [
    "# C. Words Sorting"
   ]
  },
  {
   "cell_type": "code",
   "execution_count": 34,
   "metadata": {},
   "outputs": [],
   "source": [
    "import numpy as np\n",
    "import pandas as pd"
   ]
  },
  {
   "cell_type": "markdown",
   "metadata": {},
   "source": [
    "## Summarize Result"
   ]
  },
  {
   "cell_type": "code",
   "execution_count": 149,
   "metadata": {},
   "outputs": [
    {
     "name": "stdout",
     "output_type": "stream",
     "text": [
      " Enter the string (non nemeric words) :one of the best teacher is Aris\n",
      "Sorted word in this string are : ['aris', 'best', 'is', 'of', 'one', 'teacher', 'the']\n"
     ]
    }
   ],
   "source": [
    "Inpstr = []\n",
    "Inpstr = input(\" Enter the string (non nemeric words) :\").lower().split()\n",
    "print (\"Sorted word in this string are :\",alphabetical_sort(Inpstr))"
   ]
  },
  {
   "cell_type": "markdown",
   "metadata": {},
   "source": [
    "### Construction and Steps of sort including the Application of Counting Algorithm is Below"
   ]
  },
  {
   "cell_type": "markdown",
   "metadata": {},
   "source": [
    "## Input"
   ]
  },
  {
   "cell_type": "code",
   "execution_count": 92,
   "metadata": {},
   "outputs": [
    {
     "name": "stdout",
     "output_type": "stream",
     "text": [
      " Enter the string :one of the best teacher is Aris\n",
      "7\n",
      "7\n"
     ]
    },
    {
     "data": {
      "text/plain": [
       "['one', 'of', 'the', 'best', 'teacher', 'is', 'aris']"
      ]
     },
     "execution_count": 92,
     "metadata": {},
     "output_type": "execute_result"
    }
   ],
   "source": [
    "Inpstr = []\n",
    "Inpstr = input(\" Enter the string :\").lower().split()\n",
    "#Inpstr = ['anwar','canvar','banvar','gan']# input string of Words\n",
    "n = len(max(Inpstr, key=len))# maximum length of the word in a string\n",
    "print(n)\n",
    "m = len(Inpstr)\n",
    "print(m)\n",
    "Inpstr"
   ]
  },
  {
   "cell_type": "markdown",
   "metadata": {},
   "source": [
    "## Creating DataSet for the Input"
   ]
  },
  {
   "cell_type": "code",
   "execution_count": 93,
   "metadata": {},
   "outputs": [
    {
     "data": {
      "text/plain": [
       "array([[0, 0, 0, 0, 0, 0, 0, 0],\n",
       "       [1, 0, 0, 0, 0, 0, 0, 0],\n",
       "       [2, 0, 0, 0, 0, 0, 0, 0],\n",
       "       [3, 0, 0, 0, 0, 0, 0, 0],\n",
       "       [4, 0, 0, 0, 0, 0, 0, 0],\n",
       "       [5, 0, 0, 0, 0, 0, 0, 0],\n",
       "       [6, 0, 0, 0, 0, 0, 0, 0]])"
      ]
     },
     "execution_count": 93,
     "metadata": {},
     "output_type": "execute_result"
    }
   ],
   "source": [
    "df = np.zeros((m,n+1), dtype=int) # dataset in addition of a column for index\n",
    "df[:,0] = range(m) # inserint Index of Words\n",
    "df\n",
    "    "
   ]
  },
  {
   "cell_type": "markdown",
   "metadata": {},
   "source": [
    "## Inserting the Ordinals of alphabets of each word"
   ]
  },
  {
   "cell_type": "code",
   "execution_count": 94,
   "metadata": {},
   "outputs": [
    {
     "data": {
      "text/plain": [
       "array([[  0, 111, 110, 101,   0,   0,   0,   0],\n",
       "       [  1, 111, 102,   0,   0,   0,   0,   0],\n",
       "       [  2, 116, 104, 101,   0,   0,   0,   0],\n",
       "       [  3,  98, 101, 115, 116,   0,   0,   0],\n",
       "       [  4, 116, 101,  97,  99, 104, 101, 114],\n",
       "       [  5, 105, 115,   0,   0,   0,   0,   0],\n",
       "       [  6,  97, 114, 105, 115,   0,   0,   0]])"
      ]
     },
     "execution_count": 94,
     "metadata": {},
     "output_type": "execute_result"
    }
   ],
   "source": [
    "for s in range (0,m): # inserting Words in the dataset\n",
    "    t = len(Inpstr[s])\n",
    "    for l in range (0,t):\n",
    "        df[s][l+1] = (ord(str((Inpstr[s])[l])))\n",
    "df"
   ]
  },
  {
   "cell_type": "markdown",
   "metadata": {},
   "source": [
    "## Now the COUNTING SORT"
   ]
  },
  {
   "cell_type": "markdown",
   "metadata": {},
   "source": [
    "#### Assuming an ARRAY"
   ]
  },
  {
   "cell_type": "code",
   "execution_count": 99,
   "metadata": {},
   "outputs": [],
   "source": [
    "arr = [111,111,116,98,116,105,97]"
   ]
  },
  {
   "cell_type": "markdown",
   "metadata": {},
   "source": [
    "#### Creating Auxillary Dataframe for frequency and Commulative frequency"
   ]
  },
  {
   "cell_type": "code",
   "execution_count": 100,
   "metadata": {},
   "outputs": [
    {
     "data": {
      "text/html": [
       "<div>\n",
       "<style scoped>\n",
       "    .dataframe tbody tr th:only-of-type {\n",
       "        vertical-align: middle;\n",
       "    }\n",
       "\n",
       "    .dataframe tbody tr th {\n",
       "        vertical-align: top;\n",
       "    }\n",
       "\n",
       "    .dataframe thead th {\n",
       "        text-align: right;\n",
       "    }\n",
       "</style>\n",
       "<table border=\"1\" class=\"dataframe\">\n",
       "  <thead>\n",
       "    <tr style=\"text-align: right;\">\n",
       "      <th></th>\n",
       "      <th>97</th>\n",
       "      <th>98</th>\n",
       "      <th>99</th>\n",
       "      <th>100</th>\n",
       "      <th>101</th>\n",
       "      <th>102</th>\n",
       "      <th>103</th>\n",
       "      <th>104</th>\n",
       "      <th>105</th>\n",
       "      <th>106</th>\n",
       "      <th>...</th>\n",
       "      <th>113</th>\n",
       "      <th>114</th>\n",
       "      <th>115</th>\n",
       "      <th>116</th>\n",
       "      <th>117</th>\n",
       "      <th>118</th>\n",
       "      <th>119</th>\n",
       "      <th>120</th>\n",
       "      <th>121</th>\n",
       "      <th>122</th>\n",
       "    </tr>\n",
       "  </thead>\n",
       "  <tbody>\n",
       "    <tr>\n",
       "      <td>Frequency</td>\n",
       "      <td>0</td>\n",
       "      <td>0</td>\n",
       "      <td>0</td>\n",
       "      <td>0</td>\n",
       "      <td>0</td>\n",
       "      <td>0</td>\n",
       "      <td>0</td>\n",
       "      <td>0</td>\n",
       "      <td>0</td>\n",
       "      <td>0</td>\n",
       "      <td>...</td>\n",
       "      <td>0</td>\n",
       "      <td>0</td>\n",
       "      <td>0</td>\n",
       "      <td>0</td>\n",
       "      <td>0</td>\n",
       "      <td>0</td>\n",
       "      <td>0</td>\n",
       "      <td>0</td>\n",
       "      <td>0</td>\n",
       "      <td>0</td>\n",
       "    </tr>\n",
       "    <tr>\n",
       "      <td>Commulative</td>\n",
       "      <td>0</td>\n",
       "      <td>0</td>\n",
       "      <td>0</td>\n",
       "      <td>0</td>\n",
       "      <td>0</td>\n",
       "      <td>0</td>\n",
       "      <td>0</td>\n",
       "      <td>0</td>\n",
       "      <td>0</td>\n",
       "      <td>0</td>\n",
       "      <td>...</td>\n",
       "      <td>0</td>\n",
       "      <td>0</td>\n",
       "      <td>0</td>\n",
       "      <td>0</td>\n",
       "      <td>0</td>\n",
       "      <td>0</td>\n",
       "      <td>0</td>\n",
       "      <td>0</td>\n",
       "      <td>0</td>\n",
       "      <td>0</td>\n",
       "    </tr>\n",
       "  </tbody>\n",
       "</table>\n",
       "<p>2 rows × 26 columns</p>\n",
       "</div>"
      ],
      "text/plain": [
       "             97   98   99   100  101  102  103  104  105  106  ...  113  114  \\\n",
       "Frequency      0    0    0    0    0    0    0    0    0    0  ...    0    0   \n",
       "Commulative    0    0    0    0    0    0    0    0    0    0  ...    0    0   \n",
       "\n",
       "             115  116  117  118  119  120  121  122  \n",
       "Frequency      0    0    0    0    0    0    0    0  \n",
       "Commulative    0    0    0    0    0    0    0    0  \n",
       "\n",
       "[2 rows x 26 columns]"
      ]
     },
     "execution_count": 100,
     "metadata": {},
     "output_type": "execute_result"
    }
   ],
   "source": [
    "AUXarrindex = ['Frequency', 'Commulative']\n",
    "Auxarrcolumns = [i for i in range (97,123)]\n",
    "Auxarrdf = (pd.DataFrame(index = AUXarrindex, columns = Auxarrcolumns)).fillna(0)\n",
    "Auxarrdf"
   ]
  },
  {
   "cell_type": "markdown",
   "metadata": {},
   "source": [
    "#### Inserting Frequency"
   ]
  },
  {
   "cell_type": "code",
   "execution_count": 101,
   "metadata": {},
   "outputs": [
    {
     "data": {
      "text/html": [
       "<div>\n",
       "<style scoped>\n",
       "    .dataframe tbody tr th:only-of-type {\n",
       "        vertical-align: middle;\n",
       "    }\n",
       "\n",
       "    .dataframe tbody tr th {\n",
       "        vertical-align: top;\n",
       "    }\n",
       "\n",
       "    .dataframe thead th {\n",
       "        text-align: right;\n",
       "    }\n",
       "</style>\n",
       "<table border=\"1\" class=\"dataframe\">\n",
       "  <thead>\n",
       "    <tr style=\"text-align: right;\">\n",
       "      <th></th>\n",
       "      <th>97</th>\n",
       "      <th>98</th>\n",
       "      <th>99</th>\n",
       "      <th>100</th>\n",
       "      <th>101</th>\n",
       "      <th>102</th>\n",
       "      <th>103</th>\n",
       "      <th>104</th>\n",
       "      <th>105</th>\n",
       "      <th>106</th>\n",
       "      <th>...</th>\n",
       "      <th>113</th>\n",
       "      <th>114</th>\n",
       "      <th>115</th>\n",
       "      <th>116</th>\n",
       "      <th>117</th>\n",
       "      <th>118</th>\n",
       "      <th>119</th>\n",
       "      <th>120</th>\n",
       "      <th>121</th>\n",
       "      <th>122</th>\n",
       "    </tr>\n",
       "  </thead>\n",
       "  <tbody>\n",
       "    <tr>\n",
       "      <td>Frequency</td>\n",
       "      <td>1</td>\n",
       "      <td>1</td>\n",
       "      <td>0</td>\n",
       "      <td>0</td>\n",
       "      <td>0</td>\n",
       "      <td>0</td>\n",
       "      <td>0</td>\n",
       "      <td>0</td>\n",
       "      <td>1</td>\n",
       "      <td>0</td>\n",
       "      <td>...</td>\n",
       "      <td>0</td>\n",
       "      <td>0</td>\n",
       "      <td>0</td>\n",
       "      <td>2</td>\n",
       "      <td>0</td>\n",
       "      <td>0</td>\n",
       "      <td>0</td>\n",
       "      <td>0</td>\n",
       "      <td>0</td>\n",
       "      <td>0</td>\n",
       "    </tr>\n",
       "    <tr>\n",
       "      <td>Commulative</td>\n",
       "      <td>0</td>\n",
       "      <td>0</td>\n",
       "      <td>0</td>\n",
       "      <td>0</td>\n",
       "      <td>0</td>\n",
       "      <td>0</td>\n",
       "      <td>0</td>\n",
       "      <td>0</td>\n",
       "      <td>0</td>\n",
       "      <td>0</td>\n",
       "      <td>...</td>\n",
       "      <td>0</td>\n",
       "      <td>0</td>\n",
       "      <td>0</td>\n",
       "      <td>0</td>\n",
       "      <td>0</td>\n",
       "      <td>0</td>\n",
       "      <td>0</td>\n",
       "      <td>0</td>\n",
       "      <td>0</td>\n",
       "      <td>0</td>\n",
       "    </tr>\n",
       "  </tbody>\n",
       "</table>\n",
       "<p>2 rows × 26 columns</p>\n",
       "</div>"
      ],
      "text/plain": [
       "             97   98   99   100  101  102  103  104  105  106  ...  113  114  \\\n",
       "Frequency      1    1    0    0    0    0    0    0    1    0  ...    0    0   \n",
       "Commulative    0    0    0    0    0    0    0    0    0    0  ...    0    0   \n",
       "\n",
       "             115  116  117  118  119  120  121  122  \n",
       "Frequency      0    2    0    0    0    0    0    0  \n",
       "Commulative    0    0    0    0    0    0    0    0  \n",
       "\n",
       "[2 rows x 26 columns]"
      ]
     },
     "execution_count": 101,
     "metadata": {},
     "output_type": "execute_result"
    }
   ],
   "source": [
    "for i in arr:\n",
    "    Auxarrdf.at['Frequency', i]+=1# inserting Commulative Frequency\n",
    "Auxarrdf"
   ]
  },
  {
   "cell_type": "markdown",
   "metadata": {},
   "source": [
    "#### Inserting Commulative Frequency"
   ]
  },
  {
   "cell_type": "code",
   "execution_count": 102,
   "metadata": {},
   "outputs": [
    {
     "data": {
      "text/html": [
       "<div>\n",
       "<style scoped>\n",
       "    .dataframe tbody tr th:only-of-type {\n",
       "        vertical-align: middle;\n",
       "    }\n",
       "\n",
       "    .dataframe tbody tr th {\n",
       "        vertical-align: top;\n",
       "    }\n",
       "\n",
       "    .dataframe thead th {\n",
       "        text-align: right;\n",
       "    }\n",
       "</style>\n",
       "<table border=\"1\" class=\"dataframe\">\n",
       "  <thead>\n",
       "    <tr style=\"text-align: right;\">\n",
       "      <th></th>\n",
       "      <th>97</th>\n",
       "      <th>98</th>\n",
       "      <th>99</th>\n",
       "      <th>100</th>\n",
       "      <th>101</th>\n",
       "      <th>102</th>\n",
       "      <th>103</th>\n",
       "      <th>104</th>\n",
       "      <th>105</th>\n",
       "      <th>106</th>\n",
       "      <th>...</th>\n",
       "      <th>113</th>\n",
       "      <th>114</th>\n",
       "      <th>115</th>\n",
       "      <th>116</th>\n",
       "      <th>117</th>\n",
       "      <th>118</th>\n",
       "      <th>119</th>\n",
       "      <th>120</th>\n",
       "      <th>121</th>\n",
       "      <th>122</th>\n",
       "    </tr>\n",
       "  </thead>\n",
       "  <tbody>\n",
       "    <tr>\n",
       "      <td>Frequency</td>\n",
       "      <td>1</td>\n",
       "      <td>1</td>\n",
       "      <td>0</td>\n",
       "      <td>0</td>\n",
       "      <td>0</td>\n",
       "      <td>0</td>\n",
       "      <td>0</td>\n",
       "      <td>0</td>\n",
       "      <td>1</td>\n",
       "      <td>0</td>\n",
       "      <td>...</td>\n",
       "      <td>0</td>\n",
       "      <td>0</td>\n",
       "      <td>0</td>\n",
       "      <td>2</td>\n",
       "      <td>0</td>\n",
       "      <td>0</td>\n",
       "      <td>0</td>\n",
       "      <td>0</td>\n",
       "      <td>0</td>\n",
       "      <td>0</td>\n",
       "    </tr>\n",
       "    <tr>\n",
       "      <td>Commulative</td>\n",
       "      <td>1</td>\n",
       "      <td>2</td>\n",
       "      <td>2</td>\n",
       "      <td>2</td>\n",
       "      <td>2</td>\n",
       "      <td>2</td>\n",
       "      <td>2</td>\n",
       "      <td>2</td>\n",
       "      <td>3</td>\n",
       "      <td>3</td>\n",
       "      <td>...</td>\n",
       "      <td>5</td>\n",
       "      <td>5</td>\n",
       "      <td>5</td>\n",
       "      <td>7</td>\n",
       "      <td>7</td>\n",
       "      <td>7</td>\n",
       "      <td>7</td>\n",
       "      <td>7</td>\n",
       "      <td>7</td>\n",
       "      <td>7</td>\n",
       "    </tr>\n",
       "  </tbody>\n",
       "</table>\n",
       "<p>2 rows × 26 columns</p>\n",
       "</div>"
      ],
      "text/plain": [
       "             97   98   99   100  101  102  103  104  105  106  ...  113  114  \\\n",
       "Frequency      1    1    0    0    0    0    0    0    1    0  ...    0    0   \n",
       "Commulative    1    2    2    2    2    2    2    2    3    3  ...    5    5   \n",
       "\n",
       "             115  116  117  118  119  120  121  122  \n",
       "Frequency      0    2    0    0    0    0    0    0  \n",
       "Commulative    5    7    7    7    7    7    7    7  \n",
       "\n",
       "[2 rows x 26 columns]"
      ]
     },
     "execution_count": 102,
     "metadata": {},
     "output_type": "execute_result"
    }
   ],
   "source": [
    "Auxarrdf.loc['Commulative'] = Auxarrdf.loc['Frequency'].values.cumsum()\n",
    "Auxarrdf"
   ]
  },
  {
   "cell_type": "markdown",
   "metadata": {},
   "source": [
    "#### creating a Sorted Dataframe-- pertaining the Sorting and order of Input array"
   ]
  },
  {
   "cell_type": "code",
   "execution_count": 103,
   "metadata": {},
   "outputs": [
    {
     "data": {
      "text/html": [
       "<div>\n",
       "<style scoped>\n",
       "    .dataframe tbody tr th:only-of-type {\n",
       "        vertical-align: middle;\n",
       "    }\n",
       "\n",
       "    .dataframe tbody tr th {\n",
       "        vertical-align: top;\n",
       "    }\n",
       "\n",
       "    .dataframe thead th {\n",
       "        text-align: right;\n",
       "    }\n",
       "</style>\n",
       "<table border=\"1\" class=\"dataframe\">\n",
       "  <thead>\n",
       "    <tr style=\"text-align: right;\">\n",
       "      <th></th>\n",
       "      <th>0</th>\n",
       "      <th>1</th>\n",
       "      <th>2</th>\n",
       "      <th>3</th>\n",
       "      <th>4</th>\n",
       "      <th>5</th>\n",
       "      <th>6</th>\n",
       "    </tr>\n",
       "  </thead>\n",
       "  <tbody>\n",
       "    <tr>\n",
       "      <td>Sorted</td>\n",
       "      <td>0</td>\n",
       "      <td>0</td>\n",
       "      <td>0</td>\n",
       "      <td>0</td>\n",
       "      <td>0</td>\n",
       "      <td>0</td>\n",
       "      <td>0</td>\n",
       "    </tr>\n",
       "    <tr>\n",
       "      <td>order</td>\n",
       "      <td>0</td>\n",
       "      <td>0</td>\n",
       "      <td>0</td>\n",
       "      <td>0</td>\n",
       "      <td>0</td>\n",
       "      <td>0</td>\n",
       "      <td>0</td>\n",
       "    </tr>\n",
       "  </tbody>\n",
       "</table>\n",
       "</div>"
      ],
      "text/plain": [
       "        0  1  2  3  4  5  6\n",
       "Sorted  0  0  0  0  0  0  0\n",
       "order   0  0  0  0  0  0  0"
      ]
     },
     "execution_count": 103,
     "metadata": {},
     "output_type": "execute_result"
    }
   ],
   "source": [
    "sorteddfind = [\"Sorted\", \"order\"]\n",
    "sorteddfcol = [c for c in range (0,len(arr))]\n",
    "Sorted_df = (pd.DataFrame(index = sorteddfind , columns = sorteddfcol)).fillna(0)\n",
    "Sorted_df"
   ]
  },
  {
   "cell_type": "markdown",
   "metadata": {},
   "source": [
    "#### Inserting sorting from Auxillary Dataframe [Commulative Frequency]"
   ]
  },
  {
   "cell_type": "code",
   "execution_count": 104,
   "metadata": {},
   "outputs": [
    {
     "data": {
      "text/html": [
       "<div>\n",
       "<style scoped>\n",
       "    .dataframe tbody tr th:only-of-type {\n",
       "        vertical-align: middle;\n",
       "    }\n",
       "\n",
       "    .dataframe tbody tr th {\n",
       "        vertical-align: top;\n",
       "    }\n",
       "\n",
       "    .dataframe thead th {\n",
       "        text-align: right;\n",
       "    }\n",
       "</style>\n",
       "<table border=\"1\" class=\"dataframe\">\n",
       "  <thead>\n",
       "    <tr style=\"text-align: right;\">\n",
       "      <th></th>\n",
       "      <th>0</th>\n",
       "      <th>1</th>\n",
       "      <th>2</th>\n",
       "      <th>3</th>\n",
       "      <th>4</th>\n",
       "      <th>5</th>\n",
       "      <th>6</th>\n",
       "    </tr>\n",
       "  </thead>\n",
       "  <tbody>\n",
       "    <tr>\n",
       "      <td>Sorted</td>\n",
       "      <td>97</td>\n",
       "      <td>98</td>\n",
       "      <td>105</td>\n",
       "      <td>111</td>\n",
       "      <td>111</td>\n",
       "      <td>116</td>\n",
       "      <td>116</td>\n",
       "    </tr>\n",
       "    <tr>\n",
       "      <td>order</td>\n",
       "      <td>6</td>\n",
       "      <td>3</td>\n",
       "      <td>5</td>\n",
       "      <td>1</td>\n",
       "      <td>0</td>\n",
       "      <td>4</td>\n",
       "      <td>2</td>\n",
       "    </tr>\n",
       "  </tbody>\n",
       "</table>\n",
       "</div>"
      ],
      "text/plain": [
       "         0   1    2    3    4    5    6\n",
       "Sorted  97  98  105  111  111  116  116\n",
       "order    6   3    5    1    0    4    2"
      ]
     },
     "execution_count": 104,
     "metadata": {},
     "output_type": "execute_result"
    }
   ],
   "source": [
    "\n",
    "for i,a in enumerate (arr):\n",
    "    (Sorted_df.iloc[0][(Auxarrdf.iloc[1][a])-1]) = a #order\n",
    "    (Sorted_df.iloc[1][(Auxarrdf.iloc[1][a])-1]) = i #value\n",
    "    Auxarrdf.iloc[1][a] = (Auxarrdf.iloc[1][a])-1\n",
    "Sorted_df"
   ]
  },
  {
   "cell_type": "code",
   "execution_count": 105,
   "metadata": {},
   "outputs": [
    {
     "data": {
      "text/plain": [
       "[6, 3, 5, 1, 0, 4, 2]"
      ]
     },
     "execution_count": 105,
     "metadata": {},
     "output_type": "execute_result"
    }
   ],
   "source": [
    "list(Sorted_df.loc['order'].values)"
   ]
  },
  {
   "cell_type": "code",
   "execution_count": 106,
   "metadata": {},
   "outputs": [
    {
     "data": {
      "text/plain": [
       "array([ 97,  98, 105, 111, 111, 116, 116], dtype=int64)"
      ]
     },
     "execution_count": 106,
     "metadata": {},
     "output_type": "execute_result"
    }
   ],
   "source": [
    "(Sorted_df.loc['Sorted'].values)"
   ]
  },
  {
   "cell_type": "markdown",
   "metadata": {},
   "source": [
    "### Making Counting Sort a Function"
   ]
  },
  {
   "cell_type": "code",
   "execution_count": 107,
   "metadata": {},
   "outputs": [],
   "source": [
    "def c_sort(arr): #counting Sort\n",
    "    \n",
    "    # Creating Auxillary Dataframe for frequency and Commulative frequency\n",
    "    \n",
    "    AUXarrindex = ['Frequency', 'Commulative'] #\n",
    "    Auxarrcolumns = [i for i in range (97,123)]\n",
    "    Auxarrdf = (pd.DataFrame(index = AUXarrindex, columns = Auxarrcolumns)).fillna(0)\n",
    "    \n",
    "    # inserting Commulative Frequency\n",
    "\n",
    "    for i in arr:   \n",
    "        Auxarrdf.at['Frequency', i]+=1 \n",
    "        \n",
    "    # inserting Commulative Frequency\n",
    "    \n",
    "    Auxarrdf.loc['Commulative'] = Auxarrdf.loc['Frequency'].values.cumsum()\n",
    "    \n",
    "    # creating a Sorted Dataframe-- pertaining the Sorting and order of Input array\n",
    "    \n",
    "    sorteddfind = [\"Sorted\", \"order\"]\n",
    "    sorteddfcol = [c for c in range (0,len(arr))]\n",
    "    Sorted_df = (pd.DataFrame(index = sorteddfind , columns = sorteddfcol)).fillna(0)\n",
    "    \n",
    "    # Inserting sorting from Auxillary Dataframe [Commulative Frequency]\n",
    "    \n",
    "    for i,a in enumerate (arr):    \n",
    "        (Sorted_df.iloc[0][(Auxarrdf.iloc[1][a])-1]) = a\n",
    "        (Sorted_df.iloc[1][(Auxarrdf.iloc[1][a])-1]) = i\n",
    "        Auxarrdf.iloc[1][a] = (Auxarrdf.iloc[1][a])-1\n",
    "        \n",
    "    # returning the output\n",
    "    \n",
    "    return list(Sorted_df.loc['Sorted'].values), list(Sorted_df.loc['order'].values)"
   ]
  },
  {
   "cell_type": "markdown",
   "metadata": {},
   "source": [
    "#### Testing Sorting Function"
   ]
  },
  {
   "cell_type": "code",
   "execution_count": 108,
   "metadata": {},
   "outputs": [
    {
     "data": {
      "text/plain": [
       "([97, 98, 105, 111, 111, 116, 116], [6, 3, 5, 1, 0, 4, 2])"
      ]
     },
     "execution_count": 108,
     "metadata": {},
     "output_type": "execute_result"
    }
   ],
   "source": [
    "c_sort([111,111,116,98,116,105,97])# sort function checking"
   ]
  },
  {
   "cell_type": "markdown",
   "metadata": {},
   "source": [
    "##  Sorting every column one by one, keeping in view the previous is same"
   ]
  },
  {
   "cell_type": "code",
   "execution_count": 109,
   "metadata": {},
   "outputs": [],
   "source": [
    "pre_problems = list([list(range(m))])"
   ]
  },
  {
   "cell_type": "code",
   "execution_count": 120,
   "metadata": {},
   "outputs": [
    {
     "data": {
      "text/plain": [
       "['aris', 'best', 'is', 'of', 'one', 'teacher', 'the']"
      ]
     },
     "execution_count": 120,
     "metadata": {},
     "output_type": "execute_result"
    }
   ],
   "source": [
    "# dividing problem into Sub problems\n",
    "for i in range(1,n):\n",
    "    problems = list() #considering the column\n",
    "    for curr_problem in pre_problems:\n",
    "        sorted_arrays, sorted_order = c_sort(df[curr_problem,i])\n",
    "        df[curr_problem,:] = df[curr_problem,:][sorted_order,:]\n",
    "        target_ind = list(range(len(sorted_arrays)))\n",
    "        problems_list = list()\n",
    "        new_problem = [curr_problem[0]]\n",
    "        \n",
    "        for j in range(1,len(sorted_arrays)):\n",
    "            if sorted_arrays[j] == sorted_arrays[j-1]:\n",
    "                new_problem.append(target_ind[j])\n",
    "            else:\n",
    "                if len(new_problem) > 1:\n",
    "                    problems_list.append(new_problem)\n",
    "                new_problem = [target_ind[j]]\n",
    "        if len(new_problem) > 1:\n",
    "            problems_list.append(new_problem)\n",
    "        problems = problems + problems_list\n",
    "        pre_problems = problems\n",
    "[Inpstr[i] for i in list(df[:,0])]\n",
    "        "
   ]
  },
  {
   "cell_type": "markdown",
   "metadata": {},
   "source": [
    "## Making a function of Alphabetical Sort"
   ]
  },
  {
   "cell_type": "code",
   "execution_count": 142,
   "metadata": {},
   "outputs": [],
   "source": [
    "def alphabetical_sort(Inpstr):\n",
    "    n = len(max(Inpstr, key=len))# maximum length of the word in a string\n",
    "    #print(n)\n",
    "    m = len(Inpstr)\n",
    "    #print(m)\n",
    "    df = np.zeros((m,n+1), dtype=int) # dataset in addition of a column for index\n",
    "    df[:,0] = range(m) # inserint Index of Words\n",
    "    #print(df)\n",
    "\n",
    "    for s in range (0,m): # inserting Words in the dataset\n",
    "        t = len(Inpstr[s])\n",
    "        for l in range (0,t):\n",
    "            df[s][l+1] = (ord(str((Inpstr[s])[l])))\n",
    "    #print(df)\n",
    "   \n",
    "    pre_problems = list([list(range(m))]) #Max times of problem\n",
    "    #print(pre_problems)\n",
    "    # dividing problem into Sub problems\n",
    "    \n",
    "    for i in range(1,n):\n",
    "        problems = list() #considering the column\n",
    "        #print (problems)\n",
    "        for curr_problem in pre_problems:\n",
    "            #print (curr_problem)\n",
    "            sorted_arrays, sorted_order = c_sort(df[curr_problem,i])\n",
    "            df[curr_problem,:] = df[curr_problem,:][sorted_order,:]\n",
    "            target_ind = list(range(len(sorted_arrays)))\n",
    "            problems_list = list()\n",
    "            new_problem = [curr_problem[0]]\n",
    "            for j in range(1,len(sorted_arrays)):\n",
    "                if sorted_arrays[j] == sorted_arrays[j-1]:\n",
    "                    new_problem.append(target_ind[j])\n",
    "                else:\n",
    "                    if len(new_problem) > 1:\n",
    "                        problems_list.append(new_problem)\n",
    "                    new_problem = [target_ind[j]]\n",
    "            if len(new_problem) > 1:\n",
    "                problems_list.append(new_problem)\n",
    "            problems = problems + problems_list\n",
    "        pre_problems = problems\n",
    "    return [Inpstr[i] for i in list(df[:,0])]"
   ]
  },
  {
   "cell_type": "markdown",
   "metadata": {},
   "source": [
    "## Final Code for Word sorting"
   ]
  },
  {
   "cell_type": "code",
   "execution_count": null,
   "metadata": {},
   "outputs": [],
   "source": [
    "import numpy as np\n",
    "import pandas as pd\n",
    "\n",
    "## Summarize Result\n",
    "\n",
    "Inpstr = []\n",
    "Inpstr = input(\" Enter the string (non nemeric words) :\").lower().split()\n",
    "print (\"Sorted word in this string are :\",alphabetical_sort(Inpstr))\n",
    "\n",
    "### Construction and Steps of sort including the Application of Counting Algorithm is Below\n",
    "\n",
    "## Input\n",
    "\n",
    "Inpstr = []\n",
    "Inpstr = input(\" Enter the string :\").lower().split()\n",
    "#Inpstr = ['anwar','canvar','banvar','gan']# input string of Words\n",
    "n = len(max(Inpstr, key=len))# maximum length of the word in a string\n",
    "print(n)\n",
    "m = len(Inpstr)\n",
    "print(m)\n",
    "Inpstr\n",
    "\n",
    "## Creating DataSet for the Input\n",
    "\n",
    "df = np.zeros((m,n+1), dtype=int) # dataset in addition of a column for index\n",
    "df[:,0] = range(m) # inserint Index of Words\n",
    "df\n",
    "    \n",
    "\n",
    "## Inserting the Ordinals of alphabets of each word\n",
    "\n",
    "for s in range (0,m): # inserting Words in the dataset\n",
    "    t = len(Inpstr[s])\n",
    "    for l in range (0,t):\n",
    "        df[s][l+1] = (ord(str((Inpstr[s])[l])))\n",
    "df\n",
    "\n",
    "## Now the COUNTING SORT\n",
    "\n",
    "#### Assuming an ARRAY\n",
    "\n",
    "arr = [111,111,116,98,116,105,97]\n",
    "\n",
    "#### Creating Auxillary Dataframe for frequency and Commulative frequency\n",
    "\n",
    "AUXarrindex = ['Frequency', 'Commulative']\n",
    "Auxarrcolumns = [i for i in range (97,123)]\n",
    "Auxarrdf = (pd.DataFrame(index = AUXarrindex, columns = Auxarrcolumns)).fillna(0)\n",
    "Auxarrdf\n",
    "\n",
    "#### Inserting Frequency\n",
    "\n",
    "for i in arr:\n",
    "    Auxarrdf.at['Frequency', i]+=1# inserting Commulative Frequency\n",
    "Auxarrdf\n",
    "\n",
    "#### Inserting Commulative Frequency\n",
    "\n",
    "Auxarrdf.loc['Commulative'] = Auxarrdf.loc['Frequency'].values.cumsum()\n",
    "Auxarrdf\n",
    "\n",
    "#### creating a Sorted Dataframe-- pertaining the Sorting and order of Input array\n",
    "\n",
    "sorteddfind = [\"Sorted\", \"order\"]\n",
    "sorteddfcol = [c for c in range (0,len(arr))]\n",
    "Sorted_df = (pd.DataFrame(index = sorteddfind , columns = sorteddfcol)).fillna(0)\n",
    "Sorted_df\n",
    "\n",
    "#### Inserting sorting from Auxillary Dataframe [Commulative Frequency]\n",
    "\n",
    "\n",
    "for i,a in enumerate (arr):\n",
    "    (Sorted_df.iloc[0][(Auxarrdf.iloc[1][a])-1]) = a #order\n",
    "    (Sorted_df.iloc[1][(Auxarrdf.iloc[1][a])-1]) = i #value\n",
    "    Auxarrdf.iloc[1][a] = (Auxarrdf.iloc[1][a])-1\n",
    "Sorted_df\n",
    "\n",
    "list(Sorted_df.loc['order'].values)\n",
    "\n",
    "(Sorted_df.loc['Sorted'].values)\n",
    "\n",
    "### Making Counting Sort a Function\n",
    "\n",
    "def c_sort(arr): #counting Sort\n",
    "    \n",
    "    # Creating Auxillary Dataframe for frequency and Commulative frequency\n",
    "    \n",
    "    AUXarrindex = ['Frequency', 'Commulative'] #\n",
    "    Auxarrcolumns = [i for i in range (97,123)]\n",
    "    Auxarrdf = (pd.DataFrame(index = AUXarrindex, columns = Auxarrcolumns)).fillna(0)\n",
    "    \n",
    "    # inserting Commulative Frequency\n",
    "\n",
    "    for i in arr:   \n",
    "        Auxarrdf.at['Frequency', i]+=1 \n",
    "        \n",
    "    # inserting Commulative Frequency\n",
    "    \n",
    "    Auxarrdf.loc['Commulative'] = Auxarrdf.loc['Frequency'].values.cumsum()\n",
    "    \n",
    "    # creating a Sorted Dataframe-- pertaining the Sorting and order of Input array\n",
    "    \n",
    "    sorteddfind = [\"Sorted\", \"order\"]\n",
    "    sorteddfcol = [c for c in range (0,len(arr))]\n",
    "    Sorted_df = (pd.DataFrame(index = sorteddfind , columns = sorteddfcol)).fillna(0)\n",
    "    \n",
    "    # Inserting sorting from Auxillary Dataframe [Commulative Frequency]\n",
    "    \n",
    "    for i,a in enumerate (arr):    \n",
    "        (Sorted_df.iloc[0][(Auxarrdf.iloc[1][a])-1]) = a\n",
    "        (Sorted_df.iloc[1][(Auxarrdf.iloc[1][a])-1]) = i\n",
    "        Auxarrdf.iloc[1][a] = (Auxarrdf.iloc[1][a])-1\n",
    "        \n",
    "    # returning the output\n",
    "    \n",
    "    return list(Sorted_df.loc['Sorted'].values), list(Sorted_df.loc['order'].values)\n",
    "\n",
    "#### Testing Sorting Function\n",
    "\n",
    "c_sort([111,111,116,98,116,105,97])# sort function checking\n",
    "\n",
    "##  Sorting every column one by one, keeping in view the previous is same\n",
    "\n",
    "pre_problems = list([list(range(m))])\n",
    "\n",
    "# dividing problem into Sub problems\n",
    "for i in range(1,n):\n",
    "    problems = list() #considering the column\n",
    "    for curr_problem in pre_problems:\n",
    "        sorted_arrays, sorted_order = c_sort(df[curr_problem,i])\n",
    "        df[curr_problem,:] = df[curr_problem,:][sorted_order,:]\n",
    "        target_ind = list(range(len(sorted_arrays)))\n",
    "        problems_list = list()\n",
    "        new_problem = [curr_problem[0]]\n",
    "        \n",
    "        for j in range(1,len(sorted_arrays)):\n",
    "            if sorted_arrays[j] == sorted_arrays[j-1]:\n",
    "                new_problem.append(target_ind[j])\n",
    "            else:\n",
    "                if len(new_problem) > 1:\n",
    "                    problems_list.append(new_problem)\n",
    "                new_problem = [target_ind[j]]\n",
    "        if len(new_problem) > 1:\n",
    "            problems_list.append(new_problem)\n",
    "        problems = problems + problems_list\n",
    "        pre_problems = problems\n",
    "[Inpstr[i] for i in list(df[:,0])]\n",
    "        \n",
    "\n",
    "## Making a function of Alphabetical Sort\n",
    "\n",
    "def alphabetical_sort(Inpstr):\n",
    "    n = len(max(Inpstr, key=len))# maximum length of the word in a string\n",
    "    #print(n)\n",
    "    m = len(Inpstr)\n",
    "    #print(m)\n",
    "    df = np.zeros((m,n+1), dtype=int) # dataset in addition of a column for index\n",
    "    df[:,0] = range(m) # inserint Index of Words\n",
    "    #print(df)\n",
    "\n",
    "    for s in range (0,m): # inserting Words in the dataset\n",
    "        t = len(Inpstr[s])\n",
    "        for l in range (0,t):\n",
    "            df[s][l+1] = (ord(str((Inpstr[s])[l])))\n",
    "    #print(df)\n",
    "   \n",
    "    pre_problems = list([list(range(m))]) #Max times of problem\n",
    "    #print(pre_problems)\n",
    "    # dividing problem into Sub problems\n",
    "    \n",
    "    for i in range(1,n):\n",
    "        problems = list() #considering the column\n",
    "        #print (problems)\n",
    "        for curr_problem in pre_problems:\n",
    "            #print (curr_problem)\n",
    "            sorted_arrays, sorted_order = c_sort(df[curr_problem,i])\n",
    "            df[curr_problem,:] = df[curr_problem,:][sorted_order,:]\n",
    "            target_ind = list(range(len(sorted_arrays)))\n",
    "            problems_list = list()\n",
    "            new_problem = [curr_problem[0]]\n",
    "            for j in range(1,len(sorted_arrays)):\n",
    "                if sorted_arrays[j] == sorted_arrays[j-1]:\n",
    "                    new_problem.append(target_ind[j])\n",
    "                else:\n",
    "                    if len(new_problem) > 1:\n",
    "                        problems_list.append(new_problem)\n",
    "                    new_problem = [target_ind[j]]\n",
    "            if len(new_problem) > 1:\n",
    "                problems_list.append(new_problem)\n",
    "            problems = problems + problems_list\n",
    "        pre_problems = problems\n",
    "    return [Inpstr[i] for i in list(df[:,0])]"
   ]
  },
  {
   "cell_type": "markdown",
   "metadata": {},
   "source": [
    "## 3. Find Similar Wines!"
   ]
  },
  {
   "cell_type": "code",
   "execution_count": 1,
   "metadata": {},
   "outputs": [],
   "source": [
    "import pandas as pd\n",
    "import numpy as np\n",
    "import math\n",
    "import matplotlib.pyplot as plt\n",
    "import random\n",
    "%matplotlib inline"
   ]
  },
  {
   "cell_type": "markdown",
   "metadata": {},
   "source": [
    "## K means clustering\n",
    "\n",
    "K-Means clustering is an unsupervised learning algorithm. There is no labeled data for this clustering, unlike in supervised learning. K-Means performs division of objects into clusters that share similarities and are dissimilar to the objects belonging to another cluster. \n",
    "\n",
    "When processing the training data, the K-means algorithm begins with an initial set of randomnly chosen centroids, which serve as starting points for each cluster, and applies Lloyd's algorithm to iteratively refine the locations of the centroids. The K-means algorithm stops building and refining clusters when it meets one or more of these conditions:\n",
    "\n",
    "$\\bullet$ The centroids stabilize, meaning that cluster assignments for individual points no longer change and the algorithm has converged on a solution.\n",
    "\n",
    "$\\bullet$ The algorithm completed running the specified number of iterations.\n"
   ]
  },
  {
   "cell_type": "code",
   "execution_count": 2,
   "metadata": {},
   "outputs": [],
   "source": [
    "def kmeans(data):\n",
    "    \n",
    "    data = data.sample(frac=1).reset_index(drop=True)\n",
    "    \n",
    "\n",
    "    data['cluster'] = None\n",
    "    data.iloc[0,-1]=1\n",
    "    data.iloc[1,-1]=2\n",
    "    data.iloc[2,-1]=3\n",
    "\n",
    "    mean_cluster1 = list(data[data['cluster']==1].iloc[:,1:-1].mean(axis=0))\n",
    "    mean_cluster2 = list(data[data['cluster']==2].iloc[:,1:-1].mean(axis=0))\n",
    "    mean_cluster3 = list(data[data['cluster']==3].iloc[:,1:-1].mean(axis=0))\n",
    "\n",
    "    distance_metric1=1000\n",
    "    distance_metric2=0\n",
    "    iter_count = 1\n",
    "    abs_diff=1000\n",
    "    \n",
    "    while abs_diff>0.001:\n",
    "        distance_metric2=distance_metric1\n",
    "        distance_metric1=0\n",
    "        for i in range(data.shape[0]):\n",
    "            this_point = list(data.iloc[i,1:-1])\n",
    "            euc_dist_clust1 = math.sqrt(sum([(a - b) ** 2 for a, b in zip(this_point, mean_cluster1)]))\n",
    "            euc_dist_clust2 = math.sqrt(sum([(a - b) ** 2 for a, b in zip(this_point, mean_cluster2)]))\n",
    "            euc_dist_clust3 = math.sqrt(sum([(a - b) ** 2 for a, b in zip(this_point, mean_cluster3)]))\n",
    "            min_dist = min(euc_dist_clust1, euc_dist_clust2, euc_dist_clust3)\n",
    "            if min_dist == euc_dist_clust1:\n",
    "                x = 1\n",
    "            elif min_dist == euc_dist_clust2:\n",
    "                x = 2\n",
    "            else:\n",
    "                x = 3\n",
    "            if data.iloc[i,-1] != x:\n",
    "               \n",
    "                data.iloc[i,-1] = x\n",
    "            mean_cluster1 = list(data[data['cluster']==1].iloc[:,1:-1].mean(axis=0))\n",
    "            mean_cluster2 = list(data[data['cluster']==2].iloc[:,1:-1].mean(axis=0))\n",
    "            mean_cluster3 = list(data[data['cluster']==3].iloc[:,1:-1].mean(axis=0))\n",
    "            distance_metric1 = distance_metric1+min_dist\n",
    "        \n",
    "        abs_diff = abs(distance_metric1-distance_metric2)\n",
    "        iter_count += 1\n",
    "        if (abs_diff==0):\n",
    "            break\n",
    "    return(data)"
   ]
  },
  {
   "cell_type": "markdown",
   "metadata": {},
   "source": [
    "### Import the data"
   ]
  },
  {
   "cell_type": "code",
   "execution_count": 3,
   "metadata": {},
   "outputs": [
    {
     "data": {
      "text/html": [
       "<div>\n",
       "<style scoped>\n",
       "    .dataframe tbody tr th:only-of-type {\n",
       "        vertical-align: middle;\n",
       "    }\n",
       "\n",
       "    .dataframe tbody tr th {\n",
       "        vertical-align: top;\n",
       "    }\n",
       "\n",
       "    .dataframe thead th {\n",
       "        text-align: right;\n",
       "    }\n",
       "</style>\n",
       "<table border=\"1\" class=\"dataframe\">\n",
       "  <thead>\n",
       "    <tr style=\"text-align: right;\">\n",
       "      <th></th>\n",
       "      <th>class</th>\n",
       "      <th>Alcohol</th>\n",
       "      <th>Malic_acid</th>\n",
       "      <th>Ash</th>\n",
       "      <th>Alcalinity_of_ash</th>\n",
       "      <th>Magnesium</th>\n",
       "      <th>Total_phenols</th>\n",
       "      <th>Flavanoids</th>\n",
       "      <th>Nonflavanoid_phenols</th>\n",
       "      <th>Proanthocyanins</th>\n",
       "      <th>Color_intensity</th>\n",
       "      <th>Hue</th>\n",
       "      <th>OD280/OD315_of_diluted_wines</th>\n",
       "      <th>Proline</th>\n",
       "    </tr>\n",
       "  </thead>\n",
       "  <tbody>\n",
       "    <tr>\n",
       "      <td>0</td>\n",
       "      <td>1</td>\n",
       "      <td>14.23</td>\n",
       "      <td>1.71</td>\n",
       "      <td>2.43</td>\n",
       "      <td>15.6</td>\n",
       "      <td>127</td>\n",
       "      <td>2.80</td>\n",
       "      <td>3.06</td>\n",
       "      <td>0.28</td>\n",
       "      <td>2.29</td>\n",
       "      <td>5.64</td>\n",
       "      <td>1.04</td>\n",
       "      <td>3.92</td>\n",
       "      <td>1065</td>\n",
       "    </tr>\n",
       "    <tr>\n",
       "      <td>1</td>\n",
       "      <td>1</td>\n",
       "      <td>13.20</td>\n",
       "      <td>1.78</td>\n",
       "      <td>2.14</td>\n",
       "      <td>11.2</td>\n",
       "      <td>100</td>\n",
       "      <td>2.65</td>\n",
       "      <td>2.76</td>\n",
       "      <td>0.26</td>\n",
       "      <td>1.28</td>\n",
       "      <td>4.38</td>\n",
       "      <td>1.05</td>\n",
       "      <td>3.40</td>\n",
       "      <td>1050</td>\n",
       "    </tr>\n",
       "    <tr>\n",
       "      <td>2</td>\n",
       "      <td>1</td>\n",
       "      <td>13.16</td>\n",
       "      <td>2.36</td>\n",
       "      <td>2.67</td>\n",
       "      <td>18.6</td>\n",
       "      <td>101</td>\n",
       "      <td>2.80</td>\n",
       "      <td>3.24</td>\n",
       "      <td>0.30</td>\n",
       "      <td>2.81</td>\n",
       "      <td>5.68</td>\n",
       "      <td>1.03</td>\n",
       "      <td>3.17</td>\n",
       "      <td>1185</td>\n",
       "    </tr>\n",
       "    <tr>\n",
       "      <td>3</td>\n",
       "      <td>1</td>\n",
       "      <td>14.37</td>\n",
       "      <td>1.95</td>\n",
       "      <td>2.50</td>\n",
       "      <td>16.8</td>\n",
       "      <td>113</td>\n",
       "      <td>3.85</td>\n",
       "      <td>3.49</td>\n",
       "      <td>0.24</td>\n",
       "      <td>2.18</td>\n",
       "      <td>7.80</td>\n",
       "      <td>0.86</td>\n",
       "      <td>3.45</td>\n",
       "      <td>1480</td>\n",
       "    </tr>\n",
       "    <tr>\n",
       "      <td>4</td>\n",
       "      <td>1</td>\n",
       "      <td>13.24</td>\n",
       "      <td>2.59</td>\n",
       "      <td>2.87</td>\n",
       "      <td>21.0</td>\n",
       "      <td>118</td>\n",
       "      <td>2.80</td>\n",
       "      <td>2.69</td>\n",
       "      <td>0.39</td>\n",
       "      <td>1.82</td>\n",
       "      <td>4.32</td>\n",
       "      <td>1.04</td>\n",
       "      <td>2.93</td>\n",
       "      <td>735</td>\n",
       "    </tr>\n",
       "  </tbody>\n",
       "</table>\n",
       "</div>"
      ],
      "text/plain": [
       "   class  Alcohol  Malic_acid   Ash  Alcalinity_of_ash  Magnesium  \\\n",
       "0      1    14.23        1.71  2.43               15.6        127   \n",
       "1      1    13.20        1.78  2.14               11.2        100   \n",
       "2      1    13.16        2.36  2.67               18.6        101   \n",
       "3      1    14.37        1.95  2.50               16.8        113   \n",
       "4      1    13.24        2.59  2.87               21.0        118   \n",
       "\n",
       "   Total_phenols  Flavanoids  Nonflavanoid_phenols  Proanthocyanins  \\\n",
       "0           2.80        3.06                  0.28             2.29   \n",
       "1           2.65        2.76                  0.26             1.28   \n",
       "2           2.80        3.24                  0.30             2.81   \n",
       "3           3.85        3.49                  0.24             2.18   \n",
       "4           2.80        2.69                  0.39             1.82   \n",
       "\n",
       "   Color_intensity   Hue  OD280/OD315_of_diluted_wines  Proline  \n",
       "0             5.64  1.04                          3.92     1065  \n",
       "1             4.38  1.05                          3.40     1050  \n",
       "2             5.68  1.03                          3.17     1185  \n",
       "3             7.80  0.86                          3.45     1480  \n",
       "4             4.32  1.04                          2.93      735  "
      ]
     },
     "execution_count": 3,
     "metadata": {},
     "output_type": "execute_result"
    }
   ],
   "source": [
    "data=pd.read_csv('wine.data',header=None)\n",
    "data.columns=['class','Alcohol','Malic_acid','Ash','Alcalinity_of_ash','Magnesium','Total_phenols','Flavanoids','Nonflavanoid_phenols','Proanthocyanins','Color_intensity','Hue','OD280/OD315_of_diluted_wines','Proline']\n",
    "#data= data.drop('class', 1)\n",
    "#data= data.drop(columns=[0])\n",
    "data.head()"
   ]
  },
  {
   "cell_type": "markdown",
   "metadata": {},
   "source": [
    "#### Retrieving two specific columns."
   ]
  },
  {
   "cell_type": "code",
   "execution_count": 4,
   "metadata": {},
   "outputs": [],
   "source": [
    "X = data[['Alcohol','Color_intensity']]"
   ]
  },
  {
   "cell_type": "code",
   "execution_count": 5,
   "metadata": {},
   "outputs": [],
   "source": [
    "df=kmeans(X)"
   ]
  },
  {
   "cell_type": "code",
   "execution_count": 6,
   "metadata": {},
   "outputs": [
    {
     "data": {
      "text/html": [
       "<div>\n",
       "<style scoped>\n",
       "    .dataframe tbody tr th:only-of-type {\n",
       "        vertical-align: middle;\n",
       "    }\n",
       "\n",
       "    .dataframe tbody tr th {\n",
       "        vertical-align: top;\n",
       "    }\n",
       "\n",
       "    .dataframe thead th {\n",
       "        text-align: right;\n",
       "    }\n",
       "</style>\n",
       "<table border=\"1\" class=\"dataframe\">\n",
       "  <thead>\n",
       "    <tr style=\"text-align: right;\">\n",
       "      <th></th>\n",
       "      <th>Alcohol</th>\n",
       "      <th>Color_intensity</th>\n",
       "      <th>cluster</th>\n",
       "    </tr>\n",
       "  </thead>\n",
       "  <tbody>\n",
       "    <tr>\n",
       "      <td>0</td>\n",
       "      <td>14.02</td>\n",
       "      <td>4.700000</td>\n",
       "      <td>1</td>\n",
       "    </tr>\n",
       "    <tr>\n",
       "      <td>1</td>\n",
       "      <td>13.41</td>\n",
       "      <td>4.280000</td>\n",
       "      <td>1</td>\n",
       "    </tr>\n",
       "    <tr>\n",
       "      <td>2</td>\n",
       "      <td>12.77</td>\n",
       "      <td>9.899999</td>\n",
       "      <td>3</td>\n",
       "    </tr>\n",
       "    <tr>\n",
       "      <td>3</td>\n",
       "      <td>12.77</td>\n",
       "      <td>3.400000</td>\n",
       "      <td>2</td>\n",
       "    </tr>\n",
       "    <tr>\n",
       "      <td>4</td>\n",
       "      <td>12.99</td>\n",
       "      <td>3.350000</td>\n",
       "      <td>2</td>\n",
       "    </tr>\n",
       "  </tbody>\n",
       "</table>\n",
       "</div>"
      ],
      "text/plain": [
       "   Alcohol  Color_intensity  cluster\n",
       "0    14.02         4.700000        1\n",
       "1    13.41         4.280000        1\n",
       "2    12.77         9.899999        3\n",
       "3    12.77         3.400000        2\n",
       "4    12.99         3.350000        2"
      ]
     },
     "execution_count": 6,
     "metadata": {},
     "output_type": "execute_result"
    }
   ],
   "source": [
    "# Creating the dataset with each object allocated to a cluster\n",
    "df.head()"
   ]
  },
  {
   "cell_type": "markdown",
   "metadata": {},
   "source": [
    "### Calculating centroids"
   ]
  },
  {
   "cell_type": "code",
   "execution_count": 7,
   "metadata": {},
   "outputs": [
    {
     "data": {
      "text/html": [
       "<div>\n",
       "<style scoped>\n",
       "    .dataframe tbody tr th:only-of-type {\n",
       "        vertical-align: middle;\n",
       "    }\n",
       "\n",
       "    .dataframe tbody tr th {\n",
       "        vertical-align: top;\n",
       "    }\n",
       "\n",
       "    .dataframe thead th {\n",
       "        text-align: right;\n",
       "    }\n",
       "</style>\n",
       "<table border=\"1\" class=\"dataframe\">\n",
       "  <thead>\n",
       "    <tr style=\"text-align: right;\">\n",
       "      <th></th>\n",
       "      <th>Alcohol</th>\n",
       "      <th>Color_intensity</th>\n",
       "    </tr>\n",
       "    <tr>\n",
       "      <th>cluster</th>\n",
       "      <th></th>\n",
       "      <th></th>\n",
       "    </tr>\n",
       "  </thead>\n",
       "  <tbody>\n",
       "    <tr>\n",
       "      <th>1</th>\n",
       "      <td>903.86</td>\n",
       "      <td>216.940000</td>\n",
       "    </tr>\n",
       "    <tr>\n",
       "      <th>2</th>\n",
       "      <td>994.84</td>\n",
       "      <td>404.210000</td>\n",
       "    </tr>\n",
       "    <tr>\n",
       "      <th>3</th>\n",
       "      <td>415.41</td>\n",
       "      <td>279.189999</td>\n",
       "    </tr>\n",
       "  </tbody>\n",
       "</table>\n",
       "</div>"
      ],
      "text/plain": [
       "         Alcohol  Color_intensity\n",
       "cluster                          \n",
       "1         903.86       216.940000\n",
       "2         994.84       404.210000\n",
       "3         415.41       279.189999"
      ]
     },
     "execution_count": 7,
     "metadata": {},
     "output_type": "execute_result"
    }
   ],
   "source": [
    "# Calculating the sum of the attributes\n",
    "df_sum=df.groupby([\"cluster\"]).sum()\n",
    "df_sum"
   ]
  },
  {
   "cell_type": "code",
   "execution_count": 8,
   "metadata": {},
   "outputs": [
    {
     "data": {
      "text/html": [
       "<div>\n",
       "<style scoped>\n",
       "    .dataframe tbody tr th:only-of-type {\n",
       "        vertical-align: middle;\n",
       "    }\n",
       "\n",
       "    .dataframe tbody tr th {\n",
       "        vertical-align: top;\n",
       "    }\n",
       "\n",
       "    .dataframe thead th {\n",
       "        text-align: right;\n",
       "    }\n",
       "</style>\n",
       "<table border=\"1\" class=\"dataframe\">\n",
       "  <thead>\n",
       "    <tr style=\"text-align: right;\">\n",
       "      <th></th>\n",
       "      <th>Alcohol</th>\n",
       "      <th>Color_intensity</th>\n",
       "    </tr>\n",
       "    <tr>\n",
       "      <th>cluster</th>\n",
       "      <th></th>\n",
       "      <th></th>\n",
       "    </tr>\n",
       "  </thead>\n",
       "  <tbody>\n",
       "    <tr>\n",
       "      <th>1</th>\n",
       "      <td>73</td>\n",
       "      <td>73</td>\n",
       "    </tr>\n",
       "    <tr>\n",
       "      <th>2</th>\n",
       "      <td>74</td>\n",
       "      <td>74</td>\n",
       "    </tr>\n",
       "    <tr>\n",
       "      <th>3</th>\n",
       "      <td>31</td>\n",
       "      <td>31</td>\n",
       "    </tr>\n",
       "  </tbody>\n",
       "</table>\n",
       "</div>"
      ],
      "text/plain": [
       "         Alcohol  Color_intensity\n",
       "cluster                          \n",
       "1             73               73\n",
       "2             74               74\n",
       "3             31               31"
      ]
     },
     "execution_count": 8,
     "metadata": {},
     "output_type": "execute_result"
    }
   ],
   "source": [
    "# Counting the number of members in the clusters\n",
    "df_count=df.groupby([\"cluster\"]).count()\n",
    "df_count"
   ]
  },
  {
   "cell_type": "code",
   "execution_count": 9,
   "metadata": {},
   "outputs": [],
   "source": [
    "# Clculating the values of the centroids\n",
    "centroids=df_sum.iloc[0:3]/df_count.iloc[0:3,0:2]"
   ]
  },
  {
   "cell_type": "code",
   "execution_count": 10,
   "metadata": {},
   "outputs": [
    {
     "data": {
      "text/html": [
       "<div>\n",
       "<style scoped>\n",
       "    .dataframe tbody tr th:only-of-type {\n",
       "        vertical-align: middle;\n",
       "    }\n",
       "\n",
       "    .dataframe tbody tr th {\n",
       "        vertical-align: top;\n",
       "    }\n",
       "\n",
       "    .dataframe thead th {\n",
       "        text-align: right;\n",
       "    }\n",
       "</style>\n",
       "<table border=\"1\" class=\"dataframe\">\n",
       "  <thead>\n",
       "    <tr style=\"text-align: right;\">\n",
       "      <th></th>\n",
       "      <th>Alcohol</th>\n",
       "      <th>Color_intensity</th>\n",
       "    </tr>\n",
       "    <tr>\n",
       "      <th>cluster</th>\n",
       "      <th></th>\n",
       "      <th></th>\n",
       "    </tr>\n",
       "  </thead>\n",
       "  <tbody>\n",
       "    <tr>\n",
       "      <th>1</th>\n",
       "      <td>12.381644</td>\n",
       "      <td>2.971781</td>\n",
       "    </tr>\n",
       "    <tr>\n",
       "      <th>2</th>\n",
       "      <td>13.443784</td>\n",
       "      <td>5.462297</td>\n",
       "    </tr>\n",
       "    <tr>\n",
       "      <th>3</th>\n",
       "      <td>13.400323</td>\n",
       "      <td>9.006129</td>\n",
       "    </tr>\n",
       "  </tbody>\n",
       "</table>\n",
       "</div>"
      ],
      "text/plain": [
       "           Alcohol  Color_intensity\n",
       "cluster                            \n",
       "1        12.381644         2.971781\n",
       "2        13.443784         5.462297\n",
       "3        13.400323         9.006129"
      ]
     },
     "execution_count": 10,
     "metadata": {},
     "output_type": "execute_result"
    }
   ],
   "source": [
    "centroids"
   ]
  },
  {
   "cell_type": "code",
   "execution_count": 11,
   "metadata": {},
   "outputs": [],
   "source": [
    "colors = [\"red\",\"green\",\"blue\",\"black\"]"
   ]
  },
  {
   "cell_type": "code",
   "execution_count": 12,
   "metadata": {},
   "outputs": [
    {
     "data": {
      "text/plain": [
       "<matplotlib.collections.PathCollection at 0x7efcf197a2b0>"
      ]
     },
     "execution_count": 12,
     "metadata": {},
     "output_type": "execute_result"
    },
    {
     "data": {
      "image/png": "[encoded data removed]",
      "text/plain": [
       "<Figure size 432x288 with 1 Axes>"
      ]
     },
     "metadata": {
      "needs_background": "light"
     },
     "output_type": "display_data"
    }
   ],
   "source": [
    "plt.scatter(df['Alcohol'],df[\"Color_intensity\"],marker='.', s=20, linewidths=5)\n",
    "    "
   ]
  },
  {
   "cell_type": "code",
   "execution_count": 13,
   "metadata": {},
   "outputs": [
    {
     "data": {
      "text/plain": [
       "<matplotlib.legend.Legend at 0x7efcf18eccc0>"
      ]
     },
     "execution_count": 13,
     "metadata": {},
     "output_type": "execute_result"
    },
    {
     "data": {
      "image/png": "[encoded data removed]",
      "text/plain": [
       "<Figure size 432x288 with 1 Axes>"
      ]
     },
     "metadata": {
      "needs_background": "light"
     },
     "output_type": "display_data"
    }
   ],
   "source": [
    "df['subset'] = np.select([df.cluster==1, df.cluster==2, df.cluster==3],\n",
    "                         ['Cluster 1', 'Cluster 2', 'Cluster 3'])\n",
    "for color, label in zip('bgrm', ['Cluster 1', 'Cluster 2', 'Cluster 3']):\n",
    "    subset = df[df.subset == label]\n",
    "    plt.scatter(subset.Alcohol, subset.Color_intensity, s=50, c=color, label=str(label))\n",
    "plt.scatter(centroids[\"Alcohol\"],centroids[\"Color_intensity\"],c=\"black\",s=200,linewidth=1,marker=\"*\", label=\"centroids\")\n",
    "plt.legend()"
   ]
  },
  {
   "cell_type": "markdown",
   "metadata": {},
   "source": [
    "#### Retrieving three specific columns."
   ]
  },
  {
   "cell_type": "code",
   "execution_count": 14,
   "metadata": {},
   "outputs": [],
   "source": [
    "#data= data.drop('class', axis=1)"
   ]
  },
  {
   "cell_type": "code",
   "execution_count": 14,
   "metadata": {},
   "outputs": [],
   "source": [
    "Y = data[['Alcohol','Magnesium','Flavanoids']]"
   ]
  },
  {
   "cell_type": "code",
   "execution_count": 15,
   "metadata": {},
   "outputs": [],
   "source": [
    "df=kmeans(Y)"
   ]
  },
  {
   "cell_type": "code",
   "execution_count": 16,
   "metadata": {},
   "outputs": [
    {
     "data": {
      "text/html": [
       "<div>\n",
       "<style scoped>\n",
       "    .dataframe tbody tr th:only-of-type {\n",
       "        vertical-align: middle;\n",
       "    }\n",
       "\n",
       "    .dataframe tbody tr th {\n",
       "        vertical-align: top;\n",
       "    }\n",
       "\n",
       "    .dataframe thead th {\n",
       "        text-align: right;\n",
       "    }\n",
       "</style>\n",
       "<table border=\"1\" class=\"dataframe\">\n",
       "  <thead>\n",
       "    <tr style=\"text-align: right;\">\n",
       "      <th></th>\n",
       "      <th>Alcohol</th>\n",
       "      <th>Magnesium</th>\n",
       "      <th>Flavanoids</th>\n",
       "      <th>cluster</th>\n",
       "    </tr>\n",
       "  </thead>\n",
       "  <tbody>\n",
       "    <tr>\n",
       "      <th>0</th>\n",
       "      <td>13.84</td>\n",
       "      <td>89</td>\n",
       "      <td>0.83</td>\n",
       "      <td>1</td>\n",
       "    </tr>\n",
       "    <tr>\n",
       "      <th>1</th>\n",
       "      <td>14.30</td>\n",
       "      <td>120</td>\n",
       "      <td>3.14</td>\n",
       "      <td>2</td>\n",
       "    </tr>\n",
       "    <tr>\n",
       "      <th>2</th>\n",
       "      <td>13.28</td>\n",
       "      <td>110</td>\n",
       "      <td>2.68</td>\n",
       "      <td>3</td>\n",
       "    </tr>\n",
       "    <tr>\n",
       "      <th>3</th>\n",
       "      <td>13.71</td>\n",
       "      <td>95</td>\n",
       "      <td>0.61</td>\n",
       "      <td>1</td>\n",
       "    </tr>\n",
       "    <tr>\n",
       "      <th>4</th>\n",
       "      <td>13.75</td>\n",
       "      <td>89</td>\n",
       "      <td>2.76</td>\n",
       "      <td>1</td>\n",
       "    </tr>\n",
       "  </tbody>\n",
       "</table>\n",
       "</div>"
      ],
      "text/plain": [
       "   Alcohol  Magnesium  Flavanoids  cluster\n",
       "0    13.84         89        0.83        1\n",
       "1    14.30        120        3.14        2\n",
       "2    13.28        110        2.68        3\n",
       "3    13.71         95        0.61        1\n",
       "4    13.75         89        2.76        1"
      ]
     },
     "execution_count": 16,
     "metadata": {},
     "output_type": "execute_result"
    }
   ],
   "source": [
    "# Creating the dataset with each object allocated to a cluster\n",
    "df.head()"
   ]
  },
  {
   "cell_type": "markdown",
   "metadata": {},
   "source": [
    "#### Calculating centroids"
   ]
  },
  {
   "cell_type": "code",
   "execution_count": 17,
   "metadata": {},
   "outputs": [
    {
     "data": {
      "text/html": [
       "<div>\n",
       "<style scoped>\n",
       "    .dataframe tbody tr th:only-of-type {\n",
       "        vertical-align: middle;\n",
       "    }\n",
       "\n",
       "    .dataframe tbody tr th {\n",
       "        vertical-align: top;\n",
       "    }\n",
       "\n",
       "    .dataframe thead th {\n",
       "        text-align: right;\n",
       "    }\n",
       "</style>\n",
       "<table border=\"1\" class=\"dataframe\">\n",
       "  <thead>\n",
       "    <tr style=\"text-align: right;\">\n",
       "      <th></th>\n",
       "      <th>Alcohol</th>\n",
       "      <th>Magnesium</th>\n",
       "      <th>Flavanoids</th>\n",
       "    </tr>\n",
       "    <tr>\n",
       "      <th>cluster</th>\n",
       "      <th></th>\n",
       "      <th></th>\n",
       "      <th></th>\n",
       "    </tr>\n",
       "  </thead>\n",
       "  <tbody>\n",
       "    <tr>\n",
       "      <th>1</th>\n",
       "      <td>941.07</td>\n",
       "      <td>6462</td>\n",
       "      <td>134.15</td>\n",
       "    </tr>\n",
       "    <tr>\n",
       "      <th>2</th>\n",
       "      <td>346.52</td>\n",
       "      <td>3253</td>\n",
       "      <td>64.05</td>\n",
       "    </tr>\n",
       "    <tr>\n",
       "      <th>3</th>\n",
       "      <td>1026.52</td>\n",
       "      <td>8039</td>\n",
       "      <td>163.01</td>\n",
       "    </tr>\n",
       "  </tbody>\n",
       "</table>\n",
       "</div>"
      ],
      "text/plain": [
       "         Alcohol  Magnesium  Flavanoids\n",
       "cluster                                \n",
       "1         941.07       6462      134.15\n",
       "2         346.52       3253       64.05\n",
       "3        1026.52       8039      163.01"
      ]
     },
     "execution_count": 17,
     "metadata": {},
     "output_type": "execute_result"
    }
   ],
   "source": [
    "# Calculating the sum of the attributes\n",
    "df_sum=df.groupby([\"cluster\"]).sum()\n",
    "df_sum"
   ]
  },
  {
   "cell_type": "code",
   "execution_count": 18,
   "metadata": {},
   "outputs": [
    {
     "data": {
      "text/html": [
       "<div>\n",
       "<style scoped>\n",
       "    .dataframe tbody tr th:only-of-type {\n",
       "        vertical-align: middle;\n",
       "    }\n",
       "\n",
       "    .dataframe tbody tr th {\n",
       "        vertical-align: top;\n",
       "    }\n",
       "\n",
       "    .dataframe thead th {\n",
       "        text-align: right;\n",
       "    }\n",
       "</style>\n",
       "<table border=\"1\" class=\"dataframe\">\n",
       "  <thead>\n",
       "    <tr style=\"text-align: right;\">\n",
       "      <th></th>\n",
       "      <th>Alcohol</th>\n",
       "      <th>Magnesium</th>\n",
       "      <th>Flavanoids</th>\n",
       "    </tr>\n",
       "    <tr>\n",
       "      <th>cluster</th>\n",
       "      <th></th>\n",
       "      <th></th>\n",
       "      <th></th>\n",
       "    </tr>\n",
       "  </thead>\n",
       "  <tbody>\n",
       "    <tr>\n",
       "      <th>1</th>\n",
       "      <td>74</td>\n",
       "      <td>74</td>\n",
       "      <td>74</td>\n",
       "    </tr>\n",
       "    <tr>\n",
       "      <th>2</th>\n",
       "      <td>26</td>\n",
       "      <td>26</td>\n",
       "      <td>26</td>\n",
       "    </tr>\n",
       "    <tr>\n",
       "      <th>3</th>\n",
       "      <td>78</td>\n",
       "      <td>78</td>\n",
       "      <td>78</td>\n",
       "    </tr>\n",
       "  </tbody>\n",
       "</table>\n",
       "</div>"
      ],
      "text/plain": [
       "         Alcohol  Magnesium  Flavanoids\n",
       "cluster                                \n",
       "1             74         74          74\n",
       "2             26         26          26\n",
       "3             78         78          78"
      ]
     },
     "execution_count": 18,
     "metadata": {},
     "output_type": "execute_result"
    }
   ],
   "source": [
    "# Counting the number of members in the clusters\n",
    "df_count=df.groupby([\"cluster\"]).count()\n",
    "df_count"
   ]
  },
  {
   "cell_type": "code",
   "execution_count": 19,
   "metadata": {},
   "outputs": [],
   "source": [
    "# Clculating the values of the centroids\n",
    "centroids=df_sum.iloc[0:3]/df_count.iloc[0:3,0:3]"
   ]
  },
  {
   "cell_type": "code",
   "execution_count": 20,
   "metadata": {},
   "outputs": [
    {
     "data": {
      "text/html": [
       "<div>\n",
       "<style scoped>\n",
       "    .dataframe tbody tr th:only-of-type {\n",
       "        vertical-align: middle;\n",
       "    }\n",
       "\n",
       "    .dataframe tbody tr th {\n",
       "        vertical-align: top;\n",
       "    }\n",
       "\n",
       "    .dataframe thead th {\n",
       "        text-align: right;\n",
       "    }\n",
       "</style>\n",
       "<table border=\"1\" class=\"dataframe\">\n",
       "  <thead>\n",
       "    <tr style=\"text-align: right;\">\n",
       "      <th></th>\n",
       "      <th>Alcohol</th>\n",
       "      <th>Magnesium</th>\n",
       "      <th>Flavanoids</th>\n",
       "    </tr>\n",
       "    <tr>\n",
       "      <th>cluster</th>\n",
       "      <th></th>\n",
       "      <th></th>\n",
       "      <th></th>\n",
       "    </tr>\n",
       "  </thead>\n",
       "  <tbody>\n",
       "    <tr>\n",
       "      <th>1</th>\n",
       "      <td>12.717162</td>\n",
       "      <td>87.324324</td>\n",
       "      <td>1.812838</td>\n",
       "    </tr>\n",
       "    <tr>\n",
       "      <th>2</th>\n",
       "      <td>13.327692</td>\n",
       "      <td>125.115385</td>\n",
       "      <td>2.463462</td>\n",
       "    </tr>\n",
       "    <tr>\n",
       "      <th>3</th>\n",
       "      <td>13.160513</td>\n",
       "      <td>103.064103</td>\n",
       "      <td>2.089872</td>\n",
       "    </tr>\n",
       "  </tbody>\n",
       "</table>\n",
       "</div>"
      ],
      "text/plain": [
       "           Alcohol   Magnesium  Flavanoids\n",
       "cluster                                   \n",
       "1        12.717162   87.324324    1.812838\n",
       "2        13.327692  125.115385    2.463462\n",
       "3        13.160513  103.064103    2.089872"
      ]
     },
     "execution_count": 20,
     "metadata": {},
     "output_type": "execute_result"
    }
   ],
   "source": [
    "centroids"
   ]
  },
  {
   "cell_type": "code",
   "execution_count": 21,
   "metadata": {},
   "outputs": [],
   "source": [
    "colors = [\"red\",\"green\",\"blue\",\"black\"]"
   ]
  },
  {
   "cell_type": "code",
   "execution_count": 22,
   "metadata": {},
   "outputs": [
    {
     "data": {
      "text/plain": [
       "<matplotlib.collections.PathCollection at 0x7efcf183f240>"
      ]
     },
     "execution_count": 22,
     "metadata": {},
     "output_type": "execute_result"
    },
    {
     "data": {
      "image/png": "[encoded data removed]",
      "text/plain": [
       "<Figure size 432x288 with 1 Axes>"
      ]
     },
     "metadata": {
      "needs_background": "light"
     },
     "output_type": "display_data"
    }
   ],
   "source": [
    "plt.scatter(df['Magnesium'],df[\"Alcohol\"],df['Flavanoids'],marker='.', linewidths=5)"
   ]
  },
  {
   "cell_type": "code",
   "execution_count": 23,
   "metadata": {},
   "outputs": [
    {
     "data": {
      "text/plain": [
       "<matplotlib.legend.Legend at 0x7efcf17d9f98>"
      ]
     },
     "execution_count": 23,
     "metadata": {},
     "output_type": "execute_result"
    },
    {
     "data": {
      "image/png": "[encoded data removed]",
      "text/plain": [
       "<Figure size 432x288 with 1 Axes>"
      ]
     },
     "metadata": {
      "needs_background": "light"
     },
     "output_type": "display_data"
    }
   ],
   "source": [
    "from mpl_toolkits.mplot3d import Axes3D\n",
    "from matplotlib import pyplot\n",
    "\n",
    "df['subset'] = np.select([df.cluster==1, df.cluster==2, df.cluster==3],\n",
    "                         ['Cluster 1', 'Cluster 2', 'Cluster 3'])\n",
    "\n",
    "fig = plt.figure()\n",
    "fig_size = plt.rcParams[\"figure.figsize\"]\n",
    "fig_size[0] = 6\n",
    "fig_size[1] = 4\n",
    "\n",
    "\n",
    "for color, label in zip('bgrm', ['Cluster 1', 'Cluster 2', 'Cluster 3']):\n",
    "    subset = df[df.subset == label]\n",
    "    plt.scatter(subset.Alcohol,subset.Magnesium,subset.Flavanoids,c=color, label=str(label))\n",
    "plt.scatter(centroids[\"Alcohol\"],centroids[\"Magnesium\"],centroids[\"Flavanoids\"],marker='*',c=\"black\",label=\"Centroids\")\n",
    "plt.legend()"
   ]
  },
  {
   "cell_type": "markdown",
   "metadata": {},
   "source": [
    "#### Plotting in 3D plot"
   ]
  },
  {
   "cell_type": "code",
   "execution_count": 24,
   "metadata": {},
   "outputs": [
    {
     "name": "stderr",
     "output_type": "stream",
     "text": [
      "/home/mohammadreza/anaconda3/lib/python3.7/site-packages/ipykernel_launcher.py:12: UserWarning: Matplotlib is currently using module://ipykernel.pylab.backend_inline, which is a non-GUI backend, so cannot show the figure.\n",
      "  if sys.path[0] == '':\n"
     ]
    },
    {
     "data": {
      "text/plain": [
       "<Figure size 432x288 with 0 Axes>"
      ]
     },
     "metadata": {},
     "output_type": "display_data"
    },
    {
     "data": {
      "image/png": "[encoded data removed]",
      "text/plain": [
       "<Figure size 576x432 with 1 Axes>"
      ]
     },
     "metadata": {
      "needs_background": "light"
     },
     "output_type": "display_data"
    }
   ],
   "source": [
    "from mpl_toolkits.mplot3d import Axes3D\n",
    "plt.clf()\n",
    "fig = plt.figure(figsize=(8,6))\n",
    "ax = Axes3D(fig, elev=-150, azim=210)\n",
    "for i in range(0,4):\n",
    "    ax.scatter3D(df[df.cluster == i]['Alcohol'],\n",
    "                df[df.cluster == i]['Magnesium'],\n",
    "                df[df.cluster == i]['Flavanoids'], s=100, linewidth=5)\n",
    "ax.set_xlabel(\"Alcohol\")\n",
    "ax.set_ylabel(\"Magnesium\")\n",
    "ax.set_zlabel(\"Flavanoids\")\n",
    "fig.show()"
   ]
  },
  {
   "cell_type": "code",
   "execution_count": null,
   "metadata": {},
   "outputs": [],
   "source": []
  },
  {
   "cell_type": "code",
   "execution_count": null,
   "metadata": {},
   "outputs": [],
   "source": []
  },
  {
   "cell_type": "code",
   "execution_count": null,
   "metadata": {},
   "outputs": [],
   "source": []
  },
  {
   "cell_type": "code",
   "execution_count": null,
   "metadata": {},
   "outputs": [],
   "source": []
  },
  {
   "cell_type": "code",
   "execution_count": null,
   "metadata": {},
   "outputs": [],
   "source": []
  },
  {
   "cell_type": "code",
   "execution_count": null,
   "metadata": {},
   "outputs": [],
   "source": []
  }
 ],
 "metadata": {
  "kernelspec": {
   "display_name": "Python 3",
   "language": "python",
   "name": "python3"
  },
  "language_info": {
   "codemirror_mode": {
    "name": "ipython",
    "version": 3
   },
   "file_extension": ".py",
   "mimetype": "text/x-python",
   "name": "python",
   "nbconvert_exporter": "python",
   "pygments_lexer": "ipython3",
   "version": "3.7.1"
  }
 },
 "nbformat": 4,
 "nbformat_minor": 1
}
